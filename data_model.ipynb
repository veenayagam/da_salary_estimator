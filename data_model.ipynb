{
 "cells": [
  {
   "cell_type": "markdown",
   "source": [
    "<h1 align=\"center\">Data Modelling</h1>"
   ],
   "metadata": {}
  },
  {
   "cell_type": "code",
   "execution_count": null,
   "source": [
    "# Import libraries\r\n",
    "import pandas as pd\r\n",
    "import matplotlib.pyplot as plt\r\n",
    "import numpy as np"
   ],
   "outputs": [],
   "metadata": {}
  },
  {
   "cell_type": "code",
   "execution_count": 4,
   "source": [
    "df = pd.read_csv('data_eda.csv')\r\n",
    "df.head()"
   ],
   "outputs": [
    {
     "output_type": "execute_result",
     "data": {
      "text/plain": [
       "                                           Job Title  \\\n",
       "0                                       Data Analyst   \n",
       "1                                       DATA ANALYST   \n",
       "2                                   Industry Analyst   \n",
       "3                             Data Migration Analyst   \n",
       "4  Junior Data Analyst (Recent Graduate May be Co...   \n",
       "\n",
       "                     Salary Estimate  \\\n",
       "0  MYR 25K - MYR 91K (Employer est.)   \n",
       "1  MYR 42K - MYR 60K (Employer est.)   \n",
       "2  MYR 48K - MYR 65K (Employer est.)   \n",
       "3            MYR 96K (Employer est.)   \n",
       "4  MYR 25K - MYR 38K (Employer est.)   \n",
       "\n",
       "                                     Job Description            Company Name  \\\n",
       "0  Your work makes the difference between a user ...              Citymapper   \n",
       "1  Basic Background & Requirement:\\nBachelor in A...            MyFundAction   \n",
       "2  This is a permanent work-from-home position.\\n...          ENF Solar Ltd.   \n",
       "3  Requirements\\n· Must be Malaysian\\nJob Descrip...  AMK Technology Sdn Bhd   \n",
       "4  Junior Data Scientist\\nPM101 Consulting Kuala ...        PM101 Consulting   \n",
       "\n",
       "   Rating      Location                  Size  Founded  Type of ownership  \\\n",
       "0    -1.0  Kuala Lumpur                    -1       -1                 -1   \n",
       "1    -1.0     Shah Alam                    -1       -1                 -1   \n",
       "2    -1.0  Kuala Lumpur                    -1       -1                 -1   \n",
       "3     4.2  Kuala Lumpur  201 to 500 Employees     2002  Company - Private   \n",
       "4    -1.0  Kuala Lumpur                    -1       -1                 -1   \n",
       "\n",
       "      Industry  ... avg_salary age power_bi_yn  tableau_yn  python_yn  sql_yn  \\\n",
       "0           -1  ...       58.0  -1           0           0          0       0   \n",
       "1           -1  ...       51.0  -1           0           0          0       0   \n",
       "2           -1  ...       56.5  -1           0           0          0       0   \n",
       "3  IT Services  ...       96.0  18           0           0          0       0   \n",
       "4           -1  ...       31.5  -1           0           0          0       0   \n",
       "\n",
       "   excel_yn  machine_learning_yn                job_simp  desc_len  \n",
       "0         0                    0            data analyst       783  \n",
       "1         0                    0            data analyst       470  \n",
       "2         0                    0        industry analyst       704  \n",
       "3         0                    0  data migration analyst       306  \n",
       "4         0                    0    junior data analyst        537  \n",
       "\n",
       "[5 rows x 26 columns]"
      ],
      "text/html": [
       "<div>\n",
       "<style scoped>\n",
       "    .dataframe tbody tr th:only-of-type {\n",
       "        vertical-align: middle;\n",
       "    }\n",
       "\n",
       "    .dataframe tbody tr th {\n",
       "        vertical-align: top;\n",
       "    }\n",
       "\n",
       "    .dataframe thead th {\n",
       "        text-align: right;\n",
       "    }\n",
       "</style>\n",
       "<table border=\"1\" class=\"dataframe\">\n",
       "  <thead>\n",
       "    <tr style=\"text-align: right;\">\n",
       "      <th></th>\n",
       "      <th>Job Title</th>\n",
       "      <th>Salary Estimate</th>\n",
       "      <th>Job Description</th>\n",
       "      <th>Company Name</th>\n",
       "      <th>Rating</th>\n",
       "      <th>Location</th>\n",
       "      <th>Size</th>\n",
       "      <th>Founded</th>\n",
       "      <th>Type of ownership</th>\n",
       "      <th>Industry</th>\n",
       "      <th>...</th>\n",
       "      <th>avg_salary</th>\n",
       "      <th>age</th>\n",
       "      <th>power_bi_yn</th>\n",
       "      <th>tableau_yn</th>\n",
       "      <th>python_yn</th>\n",
       "      <th>sql_yn</th>\n",
       "      <th>excel_yn</th>\n",
       "      <th>machine_learning_yn</th>\n",
       "      <th>job_simp</th>\n",
       "      <th>desc_len</th>\n",
       "    </tr>\n",
       "  </thead>\n",
       "  <tbody>\n",
       "    <tr>\n",
       "      <th>0</th>\n",
       "      <td>Data Analyst</td>\n",
       "      <td>MYR 25K - MYR 91K (Employer est.)</td>\n",
       "      <td>Your work makes the difference between a user ...</td>\n",
       "      <td>Citymapper</td>\n",
       "      <td>-1.0</td>\n",
       "      <td>Kuala Lumpur</td>\n",
       "      <td>-1</td>\n",
       "      <td>-1</td>\n",
       "      <td>-1</td>\n",
       "      <td>-1</td>\n",
       "      <td>...</td>\n",
       "      <td>58.0</td>\n",
       "      <td>-1</td>\n",
       "      <td>0</td>\n",
       "      <td>0</td>\n",
       "      <td>0</td>\n",
       "      <td>0</td>\n",
       "      <td>0</td>\n",
       "      <td>0</td>\n",
       "      <td>data analyst</td>\n",
       "      <td>783</td>\n",
       "    </tr>\n",
       "    <tr>\n",
       "      <th>1</th>\n",
       "      <td>DATA ANALYST</td>\n",
       "      <td>MYR 42K - MYR 60K (Employer est.)</td>\n",
       "      <td>Basic Background &amp; Requirement:\\nBachelor in A...</td>\n",
       "      <td>MyFundAction</td>\n",
       "      <td>-1.0</td>\n",
       "      <td>Shah Alam</td>\n",
       "      <td>-1</td>\n",
       "      <td>-1</td>\n",
       "      <td>-1</td>\n",
       "      <td>-1</td>\n",
       "      <td>...</td>\n",
       "      <td>51.0</td>\n",
       "      <td>-1</td>\n",
       "      <td>0</td>\n",
       "      <td>0</td>\n",
       "      <td>0</td>\n",
       "      <td>0</td>\n",
       "      <td>0</td>\n",
       "      <td>0</td>\n",
       "      <td>data analyst</td>\n",
       "      <td>470</td>\n",
       "    </tr>\n",
       "    <tr>\n",
       "      <th>2</th>\n",
       "      <td>Industry Analyst</td>\n",
       "      <td>MYR 48K - MYR 65K (Employer est.)</td>\n",
       "      <td>This is a permanent work-from-home position.\\n...</td>\n",
       "      <td>ENF Solar Ltd.</td>\n",
       "      <td>-1.0</td>\n",
       "      <td>Kuala Lumpur</td>\n",
       "      <td>-1</td>\n",
       "      <td>-1</td>\n",
       "      <td>-1</td>\n",
       "      <td>-1</td>\n",
       "      <td>...</td>\n",
       "      <td>56.5</td>\n",
       "      <td>-1</td>\n",
       "      <td>0</td>\n",
       "      <td>0</td>\n",
       "      <td>0</td>\n",
       "      <td>0</td>\n",
       "      <td>0</td>\n",
       "      <td>0</td>\n",
       "      <td>industry analyst</td>\n",
       "      <td>704</td>\n",
       "    </tr>\n",
       "    <tr>\n",
       "      <th>3</th>\n",
       "      <td>Data Migration Analyst</td>\n",
       "      <td>MYR 96K (Employer est.)</td>\n",
       "      <td>Requirements\\n· Must be Malaysian\\nJob Descrip...</td>\n",
       "      <td>AMK Technology Sdn Bhd</td>\n",
       "      <td>4.2</td>\n",
       "      <td>Kuala Lumpur</td>\n",
       "      <td>201 to 500 Employees</td>\n",
       "      <td>2002</td>\n",
       "      <td>Company - Private</td>\n",
       "      <td>IT Services</td>\n",
       "      <td>...</td>\n",
       "      <td>96.0</td>\n",
       "      <td>18</td>\n",
       "      <td>0</td>\n",
       "      <td>0</td>\n",
       "      <td>0</td>\n",
       "      <td>0</td>\n",
       "      <td>0</td>\n",
       "      <td>0</td>\n",
       "      <td>data migration analyst</td>\n",
       "      <td>306</td>\n",
       "    </tr>\n",
       "    <tr>\n",
       "      <th>4</th>\n",
       "      <td>Junior Data Analyst (Recent Graduate May be Co...</td>\n",
       "      <td>MYR 25K - MYR 38K (Employer est.)</td>\n",
       "      <td>Junior Data Scientist\\nPM101 Consulting Kuala ...</td>\n",
       "      <td>PM101 Consulting</td>\n",
       "      <td>-1.0</td>\n",
       "      <td>Kuala Lumpur</td>\n",
       "      <td>-1</td>\n",
       "      <td>-1</td>\n",
       "      <td>-1</td>\n",
       "      <td>-1</td>\n",
       "      <td>...</td>\n",
       "      <td>31.5</td>\n",
       "      <td>-1</td>\n",
       "      <td>0</td>\n",
       "      <td>0</td>\n",
       "      <td>0</td>\n",
       "      <td>0</td>\n",
       "      <td>0</td>\n",
       "      <td>0</td>\n",
       "      <td>junior data analyst</td>\n",
       "      <td>537</td>\n",
       "    </tr>\n",
       "  </tbody>\n",
       "</table>\n",
       "<p>5 rows × 26 columns</p>\n",
       "</div>"
      ]
     },
     "metadata": {},
     "execution_count": 4
    }
   ],
   "metadata": {}
  },
  {
   "cell_type": "code",
   "execution_count": 5,
   "source": [
    "df.columns"
   ],
   "outputs": [
    {
     "output_type": "execute_result",
     "data": {
      "text/plain": [
       "Index(['Job Title', 'Salary Estimate', 'Job Description', 'Company Name',\n",
       "       'Rating', 'Location', 'Size', 'Founded', 'Type of ownership',\n",
       "       'Industry', 'Sector', 'Revenue', 'salary_estimate_split',\n",
       "       'salary_estimate_hourly', 'min_salary', 'max_salary', 'avg_salary',\n",
       "       'age', 'power_bi_yn', 'tableau_yn', 'python_yn', 'sql_yn', 'excel_yn',\n",
       "       'machine_learning_yn', 'job_simp', 'desc_len'],\n",
       "      dtype='object')"
      ]
     },
     "metadata": {},
     "execution_count": 5
    }
   ],
   "metadata": {}
  },
  {
   "cell_type": "code",
   "execution_count": 6,
   "source": [
    "# Choose relevent columns\r\n",
    "df_model = df[['avg_salary','Rating','Location','Size','Type of ownership','Industry','Sector','Revenue','age','salary_estimate_hourly','power_bi_yn', 'tableau_yn', 'python_yn', 'sql_yn', 'excel_yn',\r\n",
    "       'machine_learning_yn', 'job_simp', 'desc_len']]\r\n"
   ],
   "outputs": [],
   "metadata": {}
  },
  {
   "cell_type": "code",
   "execution_count": 7,
   "source": [
    "# Get dummy data \r\n",
    "df_dum = pd.get_dummies(df_model)"
   ],
   "outputs": [],
   "metadata": {}
  },
  {
   "cell_type": "code",
   "execution_count": 8,
   "source": [
    "from sklearn.model_selection import train_test_split\r\n",
    "# Train test split\r\n",
    "X = df_dum.drop(columns='avg_salary')\r\n",
    "y = df['avg_salary'].values\r\n",
    "X_train, X_test, y_train, y_test = train_test_split(X,y, test_size=0.2, random_state=42)"
   ],
   "outputs": [],
   "metadata": {}
  },
  {
   "cell_type": "code",
   "execution_count": 9,
   "source": [
    "# Check the coef between the variables\r\n",
    "import statsmodels.api as sm\r\n",
    "X_sm = X = sm.add_constant(X)\r\n",
    "model = sm.OLS(y,X_sm)\r\n",
    "model.fit().summary()"
   ],
   "outputs": [
    {
     "output_type": "execute_result",
     "data": {
      "text/plain": [
       "<class 'statsmodels.iolib.summary.Summary'>\n",
       "\"\"\"\n",
       "                            OLS Regression Results                            \n",
       "==============================================================================\n",
       "Dep. Variable:                      y   R-squared:                       0.912\n",
       "Model:                            OLS   Adj. R-squared:                  0.895\n",
       "Method:                 Least Squares   F-statistic:                     55.05\n",
       "Date:                Fri, 20 Aug 2021   Prob (F-statistic):           4.72e-87\n",
       "Time:                        09:57:18   Log-Likelihood:                -788.63\n",
       "No. Observations:                 241   AIC:                             1655.\n",
       "Df Residuals:                     202   BIC:                             1791.\n",
       "Df Model:                          38                                         \n",
       "Covariance Type:            nonrobust                                         \n",
       "================================================================================================================\n",
       "                                                   coef    std err          t      P>|t|      [0.025      0.975]\n",
       "----------------------------------------------------------------------------------------------------------------\n",
       "const                                           21.6522      1.206     17.956      0.000      19.275      24.030\n",
       "Rating                                          -0.7248      0.736     -0.985      0.326      -2.175       0.726\n",
       "age                                              0.3613      0.040      9.009      0.000       0.282       0.440\n",
       "salary_estimate_hourly                         -65.6346      7.261     -9.040      0.000     -79.951     -51.318\n",
       "power_bi_yn                                     41.5731      2.349     17.701      0.000      36.942      46.204\n",
       "tableau_yn                                       1.4099      3.039      0.464      0.643      -4.581       7.401\n",
       "python_yn                                      -41.1734      5.633     -7.309      0.000     -52.281     -30.065\n",
       "sql_yn                                          -4.7970      1.940     -2.473      0.014      -8.621      -0.972\n",
       "excel_yn                                        22.4606      3.786      5.933      0.000      14.996      29.925\n",
       "machine_learning_yn                             15.2844      1.583      9.654      0.000      12.163      18.406\n",
       "desc_len                                        -0.0171      0.002     -8.889      0.000      -0.021      -0.013\n",
       "Location_Cheras                                  3.7262      3.386      1.101      0.272      -2.949      10.402\n",
       "Location_Kampong Puchong                         5.8967      3.090      1.908      0.058      -0.197      11.990\n",
       "Location_Kuala Lumpur                           15.3614      1.450     10.592      0.000      12.502      18.221\n",
       "Location_Kuala Terengganu                       -7.8271      3.281     -2.386      0.018     -14.296      -1.358\n",
       "Location_Malaysia                                6.7754      2.361      2.870      0.005       2.121      11.430\n",
       "Location_Pantai Valley                          -4.7744      1.860     -2.567      0.011      -8.442      -1.107\n",
       "Location_Petaling Jaya                          24.6450      3.332      7.396      0.000      18.075      31.215\n",
       "Location_Seri Kembangan                         -7.3878      3.283     -2.251      0.025     -13.860      -0.915\n",
       "Location_Shah Alam                               0.6585      2.212      0.298      0.766      -3.703       5.020\n",
       "Location_Subang Jaya                           -15.4216      3.774     -4.087      0.000     -22.863      -7.981\n",
       "Size_-1                                          4.6958      0.725      6.481      0.000       3.267       6.124\n",
       "Size_1 to 50 Employees                         -12.2873      2.635     -4.663      0.000     -17.483      -7.092\n",
       "Size_10000+ Employees                          -11.2444      1.961     -5.734      0.000     -15.111      -7.378\n",
       "Size_1001 to 5000 Employees                    -12.3618      2.072     -5.966      0.000     -16.447      -8.276\n",
       "Size_201 to 500 Employees                      -10.6348      2.125     -5.005      0.000     -14.824      -6.445\n",
       "Size_501 to 1000 Employees                      16.7406      2.234      7.494      0.000      12.336      21.145\n",
       "Size_51 to 200 Employees                        22.6936      3.495      6.492      0.000      15.801      29.586\n",
       "Size_Unknown                                    24.0506      3.456      6.960      0.000      17.237      30.864\n",
       "Type of ownership_-1                             4.6958      0.725      6.481      0.000       3.267       6.124\n",
       "Type of ownership_Company - Private              2.7171      1.672      1.625      0.106      -0.579       6.013\n",
       "Type of ownership_Company - Public              19.3715      2.103      9.213      0.000      15.226      23.517\n",
       "Type of ownership_Unknown                       -5.1322      1.751     -2.930      0.004      -8.586      -1.679\n",
       "Industry_-1                                      7.5154      1.352      5.559      0.000       4.850      10.181\n",
       "Industry_Colleges & Universities                15.2844      1.583      9.654      0.000      12.163      18.406\n",
       "Industry_Computer Hardware & Software           -5.8531      1.931     -3.031      0.003      -9.661      -2.045\n",
       "Industry_Department, Clothing, & Shoe Stores     1.0787      1.217      0.886      0.376      -1.321       3.478\n",
       "Industry_Express Delivery Services              -5.1322      1.751     -2.930      0.004      -8.586      -1.679\n",
       "Industry_Food & Beverage Manufacturing          -2.8117      1.064     -2.643      0.009      -4.910      -0.714\n",
       "Industry_IT Services                             8.1598      1.674      4.873      0.000       4.858      11.461\n",
       "Industry_Security Services                      -8.9505      1.453     -6.160      0.000     -11.816      -6.085\n",
       "Industry_Staffing & Outsourcing                 12.3614      1.675      7.381      0.000       9.059      15.664\n",
       "Sector_-1                                        7.5154      1.352      5.559      0.000       4.850      10.181\n",
       "Sector_Business Services                         3.4109      1.510      2.260      0.025       0.434       6.387\n",
       "Sector_Education                                15.2844      1.583      9.654      0.000      12.163      18.406\n",
       "Sector_Information Technology                    2.3067      1.849      1.247      0.214      -1.340       5.953\n",
       "Sector_Manufacturing                            -2.8117      1.064     -2.643      0.009      -4.910      -0.714\n",
       "Sector_Retail                                    1.0787      1.217      0.886      0.376      -1.321       3.478\n",
       "Sector_Transportation & Logistics               -5.1322      1.751     -2.930      0.004      -8.586      -1.679\n",
       "Revenue_$1 to $5 million (USD)                  25.7365      2.163     11.900      0.000      21.472      30.001\n",
       "Revenue_$10+ billion (USD)                      -1.7330      0.421     -4.119      0.000      -2.563      -0.903\n",
       "Revenue_$100 to $500 million (USD)              -9.9539      2.217     -4.489      0.000     -14.326      -5.582\n",
       "Revenue_$2 to $5 billion (USD)                  -4.3792      2.082     -2.103      0.037      -8.484      -0.274\n",
       "Revenue_$5 to $10 million (USD)                -10.5619      2.331     -4.530      0.000     -15.159      -5.965\n",
       "Revenue_-1                                       4.6958      0.725      6.481      0.000       3.267       6.124\n",
       "Revenue_Unknown / Non-Applicable                17.8479      1.844      9.680      0.000      14.212      21.483\n",
       "job_simp_associate analyst                     -12.5680      5.166     -2.433      0.016     -22.754      -2.382\n",
       "job_simp_business intelligence                  26.2887      2.029     12.959      0.000      22.289      30.289\n",
       "job_simp_cx                                     -2.8117      1.064     -2.643      0.009      -4.910      -0.714\n",
       "job_simp_data analyst                            2.1283      1.576      1.350      0.178      -0.979       5.236\n",
       "job_simp_data analyst                           15.2844      1.583      9.654      0.000      12.163      18.406\n",
       "job_simp_data analytics ba                      35.5441      6.620      5.369      0.000      22.491      48.598\n",
       "job_simp_data migration analyst                 40.3654      3.277     12.317      0.000      33.904      46.827\n",
       "job_simp_data science analyst                  -10.7744      2.434     -4.427      0.000     -15.573      -5.976\n",
       "job_simp_fraud analyst                         -10.5459      6.552     -1.610      0.109     -23.464       2.372\n",
       "job_simp_gis analyst                            -7.3878      3.283     -2.251      0.025     -13.860      -0.915\n",
       "job_simp_hr analyst                             -4.3792      2.082     -2.103      0.037      -8.484      -0.274\n",
       "job_simp_industry analyst                        2.4067      2.416      0.996      0.320      -2.357       7.171\n",
       "job_simp_jr. business analyst                   -9.9539      2.217     -4.489      0.000     -14.326      -5.582\n",
       "job_simp_junior analyst                         -7.8271      3.281     -2.386      0.018     -14.296      -1.358\n",
       "job_simp_junior data analyst                   -25.8081      2.436    -10.594      0.000     -30.611     -21.005\n",
       "job_simp_mdm data analyst                       -8.9505      1.453     -6.160      0.000     -11.816      -6.085\n",
       "job_simp_operation data analyst                 18.4646      5.167      3.574      0.000       8.277      28.653\n",
       "job_simp_real time analyst                      11.3871      3.807      2.991      0.003       3.880      18.894\n",
       "job_simp_research analyst                        3.7262      3.386      1.101      0.272      -2.949      10.402\n",
       "job_simp_senior data analyst                    16.7406      2.234      7.494      0.000      12.336      21.145\n",
       "job_simp_srm data analyst                      -10.5619      2.331     -4.530      0.000     -15.159      -5.965\n",
       "job_simp_system analyst                         -5.8531      1.931     -3.031      0.003      -9.661      -2.045\n",
       "job_simp_valuation and research analyst        -21.9301      6.546     -3.350      0.001     -34.838      -9.022\n",
       "job_simp_workforce management analyst          -11.3323      6.627     -1.710      0.089     -24.400       1.735\n",
       "==============================================================================\n",
       "Omnibus:                      177.490   Durbin-Watson:                   2.036\n",
       "Prob(Omnibus):                  0.000   Jarque-Bera (JB):             1959.898\n",
       "Skew:                          -2.873   Prob(JB):                         0.00\n",
       "Kurtosis:                      15.734   Cond. No.                     3.18e+18\n",
       "==============================================================================\n",
       "\n",
       "Notes:\n",
       "[1] Standard Errors assume that the covariance matrix of the errors is correctly specified.\n",
       "[2] The smallest eigenvalue is 6.96e-29. This might indicate that there are\n",
       "strong multicollinearity problems or that the design matrix is singular.\n",
       "\"\"\""
      ],
      "text/html": [
       "<table class=\"simpletable\">\n",
       "<caption>OLS Regression Results</caption>\n",
       "<tr>\n",
       "  <th>Dep. Variable:</th>            <td>y</td>        <th>  R-squared:         </th> <td>   0.912</td>\n",
       "</tr>\n",
       "<tr>\n",
       "  <th>Model:</th>                   <td>OLS</td>       <th>  Adj. R-squared:    </th> <td>   0.895</td>\n",
       "</tr>\n",
       "<tr>\n",
       "  <th>Method:</th>             <td>Least Squares</td>  <th>  F-statistic:       </th> <td>   55.05</td>\n",
       "</tr>\n",
       "<tr>\n",
       "  <th>Date:</th>             <td>Fri, 20 Aug 2021</td> <th>  Prob (F-statistic):</th> <td>4.72e-87</td>\n",
       "</tr>\n",
       "<tr>\n",
       "  <th>Time:</th>                 <td>09:57:18</td>     <th>  Log-Likelihood:    </th> <td> -788.63</td>\n",
       "</tr>\n",
       "<tr>\n",
       "  <th>No. Observations:</th>      <td>   241</td>      <th>  AIC:               </th> <td>   1655.</td>\n",
       "</tr>\n",
       "<tr>\n",
       "  <th>Df Residuals:</th>          <td>   202</td>      <th>  BIC:               </th> <td>   1791.</td>\n",
       "</tr>\n",
       "<tr>\n",
       "  <th>Df Model:</th>              <td>    38</td>      <th>                     </th>     <td> </td>   \n",
       "</tr>\n",
       "<tr>\n",
       "  <th>Covariance Type:</th>      <td>nonrobust</td>    <th>                     </th>     <td> </td>   \n",
       "</tr>\n",
       "</table>\n",
       "<table class=\"simpletable\">\n",
       "<tr>\n",
       "                        <td></td>                          <th>coef</th>     <th>std err</th>      <th>t</th>      <th>P>|t|</th>  <th>[0.025</th>    <th>0.975]</th>  \n",
       "</tr>\n",
       "<tr>\n",
       "  <th>const</th>                                        <td>   21.6522</td> <td>    1.206</td> <td>   17.956</td> <td> 0.000</td> <td>   19.275</td> <td>   24.030</td>\n",
       "</tr>\n",
       "<tr>\n",
       "  <th>Rating</th>                                       <td>   -0.7248</td> <td>    0.736</td> <td>   -0.985</td> <td> 0.326</td> <td>   -2.175</td> <td>    0.726</td>\n",
       "</tr>\n",
       "<tr>\n",
       "  <th>age</th>                                          <td>    0.3613</td> <td>    0.040</td> <td>    9.009</td> <td> 0.000</td> <td>    0.282</td> <td>    0.440</td>\n",
       "</tr>\n",
       "<tr>\n",
       "  <th>salary_estimate_hourly</th>                       <td>  -65.6346</td> <td>    7.261</td> <td>   -9.040</td> <td> 0.000</td> <td>  -79.951</td> <td>  -51.318</td>\n",
       "</tr>\n",
       "<tr>\n",
       "  <th>power_bi_yn</th>                                  <td>   41.5731</td> <td>    2.349</td> <td>   17.701</td> <td> 0.000</td> <td>   36.942</td> <td>   46.204</td>\n",
       "</tr>\n",
       "<tr>\n",
       "  <th>tableau_yn</th>                                   <td>    1.4099</td> <td>    3.039</td> <td>    0.464</td> <td> 0.643</td> <td>   -4.581</td> <td>    7.401</td>\n",
       "</tr>\n",
       "<tr>\n",
       "  <th>python_yn</th>                                    <td>  -41.1734</td> <td>    5.633</td> <td>   -7.309</td> <td> 0.000</td> <td>  -52.281</td> <td>  -30.065</td>\n",
       "</tr>\n",
       "<tr>\n",
       "  <th>sql_yn</th>                                       <td>   -4.7970</td> <td>    1.940</td> <td>   -2.473</td> <td> 0.014</td> <td>   -8.621</td> <td>   -0.972</td>\n",
       "</tr>\n",
       "<tr>\n",
       "  <th>excel_yn</th>                                     <td>   22.4606</td> <td>    3.786</td> <td>    5.933</td> <td> 0.000</td> <td>   14.996</td> <td>   29.925</td>\n",
       "</tr>\n",
       "<tr>\n",
       "  <th>machine_learning_yn</th>                          <td>   15.2844</td> <td>    1.583</td> <td>    9.654</td> <td> 0.000</td> <td>   12.163</td> <td>   18.406</td>\n",
       "</tr>\n",
       "<tr>\n",
       "  <th>desc_len</th>                                     <td>   -0.0171</td> <td>    0.002</td> <td>   -8.889</td> <td> 0.000</td> <td>   -0.021</td> <td>   -0.013</td>\n",
       "</tr>\n",
       "<tr>\n",
       "  <th>Location_Cheras</th>                              <td>    3.7262</td> <td>    3.386</td> <td>    1.101</td> <td> 0.272</td> <td>   -2.949</td> <td>   10.402</td>\n",
       "</tr>\n",
       "<tr>\n",
       "  <th>Location_Kampong Puchong</th>                     <td>    5.8967</td> <td>    3.090</td> <td>    1.908</td> <td> 0.058</td> <td>   -0.197</td> <td>   11.990</td>\n",
       "</tr>\n",
       "<tr>\n",
       "  <th>Location_Kuala Lumpur</th>                        <td>   15.3614</td> <td>    1.450</td> <td>   10.592</td> <td> 0.000</td> <td>   12.502</td> <td>   18.221</td>\n",
       "</tr>\n",
       "<tr>\n",
       "  <th>Location_Kuala Terengganu</th>                    <td>   -7.8271</td> <td>    3.281</td> <td>   -2.386</td> <td> 0.018</td> <td>  -14.296</td> <td>   -1.358</td>\n",
       "</tr>\n",
       "<tr>\n",
       "  <th>Location_Malaysia</th>                            <td>    6.7754</td> <td>    2.361</td> <td>    2.870</td> <td> 0.005</td> <td>    2.121</td> <td>   11.430</td>\n",
       "</tr>\n",
       "<tr>\n",
       "  <th>Location_Pantai Valley</th>                       <td>   -4.7744</td> <td>    1.860</td> <td>   -2.567</td> <td> 0.011</td> <td>   -8.442</td> <td>   -1.107</td>\n",
       "</tr>\n",
       "<tr>\n",
       "  <th>Location_Petaling Jaya</th>                       <td>   24.6450</td> <td>    3.332</td> <td>    7.396</td> <td> 0.000</td> <td>   18.075</td> <td>   31.215</td>\n",
       "</tr>\n",
       "<tr>\n",
       "  <th>Location_Seri Kembangan</th>                      <td>   -7.3878</td> <td>    3.283</td> <td>   -2.251</td> <td> 0.025</td> <td>  -13.860</td> <td>   -0.915</td>\n",
       "</tr>\n",
       "<tr>\n",
       "  <th>Location_Shah Alam</th>                           <td>    0.6585</td> <td>    2.212</td> <td>    0.298</td> <td> 0.766</td> <td>   -3.703</td> <td>    5.020</td>\n",
       "</tr>\n",
       "<tr>\n",
       "  <th>Location_Subang Jaya</th>                         <td>  -15.4216</td> <td>    3.774</td> <td>   -4.087</td> <td> 0.000</td> <td>  -22.863</td> <td>   -7.981</td>\n",
       "</tr>\n",
       "<tr>\n",
       "  <th>Size_-1</th>                                      <td>    4.6958</td> <td>    0.725</td> <td>    6.481</td> <td> 0.000</td> <td>    3.267</td> <td>    6.124</td>\n",
       "</tr>\n",
       "<tr>\n",
       "  <th>Size_1 to 50 Employees</th>                       <td>  -12.2873</td> <td>    2.635</td> <td>   -4.663</td> <td> 0.000</td> <td>  -17.483</td> <td>   -7.092</td>\n",
       "</tr>\n",
       "<tr>\n",
       "  <th>Size_10000+ Employees</th>                        <td>  -11.2444</td> <td>    1.961</td> <td>   -5.734</td> <td> 0.000</td> <td>  -15.111</td> <td>   -7.378</td>\n",
       "</tr>\n",
       "<tr>\n",
       "  <th>Size_1001 to 5000 Employees</th>                  <td>  -12.3618</td> <td>    2.072</td> <td>   -5.966</td> <td> 0.000</td> <td>  -16.447</td> <td>   -8.276</td>\n",
       "</tr>\n",
       "<tr>\n",
       "  <th>Size_201 to 500 Employees</th>                    <td>  -10.6348</td> <td>    2.125</td> <td>   -5.005</td> <td> 0.000</td> <td>  -14.824</td> <td>   -6.445</td>\n",
       "</tr>\n",
       "<tr>\n",
       "  <th>Size_501 to 1000 Employees</th>                   <td>   16.7406</td> <td>    2.234</td> <td>    7.494</td> <td> 0.000</td> <td>   12.336</td> <td>   21.145</td>\n",
       "</tr>\n",
       "<tr>\n",
       "  <th>Size_51 to 200 Employees</th>                     <td>   22.6936</td> <td>    3.495</td> <td>    6.492</td> <td> 0.000</td> <td>   15.801</td> <td>   29.586</td>\n",
       "</tr>\n",
       "<tr>\n",
       "  <th>Size_Unknown</th>                                 <td>   24.0506</td> <td>    3.456</td> <td>    6.960</td> <td> 0.000</td> <td>   17.237</td> <td>   30.864</td>\n",
       "</tr>\n",
       "<tr>\n",
       "  <th>Type of ownership_-1</th>                         <td>    4.6958</td> <td>    0.725</td> <td>    6.481</td> <td> 0.000</td> <td>    3.267</td> <td>    6.124</td>\n",
       "</tr>\n",
       "<tr>\n",
       "  <th>Type of ownership_Company - Private</th>          <td>    2.7171</td> <td>    1.672</td> <td>    1.625</td> <td> 0.106</td> <td>   -0.579</td> <td>    6.013</td>\n",
       "</tr>\n",
       "<tr>\n",
       "  <th>Type of ownership_Company - Public</th>           <td>   19.3715</td> <td>    2.103</td> <td>    9.213</td> <td> 0.000</td> <td>   15.226</td> <td>   23.517</td>\n",
       "</tr>\n",
       "<tr>\n",
       "  <th>Type of ownership_Unknown</th>                    <td>   -5.1322</td> <td>    1.751</td> <td>   -2.930</td> <td> 0.004</td> <td>   -8.586</td> <td>   -1.679</td>\n",
       "</tr>\n",
       "<tr>\n",
       "  <th>Industry_-1</th>                                  <td>    7.5154</td> <td>    1.352</td> <td>    5.559</td> <td> 0.000</td> <td>    4.850</td> <td>   10.181</td>\n",
       "</tr>\n",
       "<tr>\n",
       "  <th>Industry_Colleges & Universities</th>             <td>   15.2844</td> <td>    1.583</td> <td>    9.654</td> <td> 0.000</td> <td>   12.163</td> <td>   18.406</td>\n",
       "</tr>\n",
       "<tr>\n",
       "  <th>Industry_Computer Hardware & Software</th>        <td>   -5.8531</td> <td>    1.931</td> <td>   -3.031</td> <td> 0.003</td> <td>   -9.661</td> <td>   -2.045</td>\n",
       "</tr>\n",
       "<tr>\n",
       "  <th>Industry_Department, Clothing, & Shoe Stores</th> <td>    1.0787</td> <td>    1.217</td> <td>    0.886</td> <td> 0.376</td> <td>   -1.321</td> <td>    3.478</td>\n",
       "</tr>\n",
       "<tr>\n",
       "  <th>Industry_Express Delivery Services</th>           <td>   -5.1322</td> <td>    1.751</td> <td>   -2.930</td> <td> 0.004</td> <td>   -8.586</td> <td>   -1.679</td>\n",
       "</tr>\n",
       "<tr>\n",
       "  <th>Industry_Food & Beverage Manufacturing</th>       <td>   -2.8117</td> <td>    1.064</td> <td>   -2.643</td> <td> 0.009</td> <td>   -4.910</td> <td>   -0.714</td>\n",
       "</tr>\n",
       "<tr>\n",
       "  <th>Industry_IT Services</th>                         <td>    8.1598</td> <td>    1.674</td> <td>    4.873</td> <td> 0.000</td> <td>    4.858</td> <td>   11.461</td>\n",
       "</tr>\n",
       "<tr>\n",
       "  <th>Industry_Security Services</th>                   <td>   -8.9505</td> <td>    1.453</td> <td>   -6.160</td> <td> 0.000</td> <td>  -11.816</td> <td>   -6.085</td>\n",
       "</tr>\n",
       "<tr>\n",
       "  <th>Industry_Staffing & Outsourcing</th>              <td>   12.3614</td> <td>    1.675</td> <td>    7.381</td> <td> 0.000</td> <td>    9.059</td> <td>   15.664</td>\n",
       "</tr>\n",
       "<tr>\n",
       "  <th>Sector_-1</th>                                    <td>    7.5154</td> <td>    1.352</td> <td>    5.559</td> <td> 0.000</td> <td>    4.850</td> <td>   10.181</td>\n",
       "</tr>\n",
       "<tr>\n",
       "  <th>Sector_Business Services</th>                     <td>    3.4109</td> <td>    1.510</td> <td>    2.260</td> <td> 0.025</td> <td>    0.434</td> <td>    6.387</td>\n",
       "</tr>\n",
       "<tr>\n",
       "  <th>Sector_Education</th>                             <td>   15.2844</td> <td>    1.583</td> <td>    9.654</td> <td> 0.000</td> <td>   12.163</td> <td>   18.406</td>\n",
       "</tr>\n",
       "<tr>\n",
       "  <th>Sector_Information Technology</th>                <td>    2.3067</td> <td>    1.849</td> <td>    1.247</td> <td> 0.214</td> <td>   -1.340</td> <td>    5.953</td>\n",
       "</tr>\n",
       "<tr>\n",
       "  <th>Sector_Manufacturing</th>                         <td>   -2.8117</td> <td>    1.064</td> <td>   -2.643</td> <td> 0.009</td> <td>   -4.910</td> <td>   -0.714</td>\n",
       "</tr>\n",
       "<tr>\n",
       "  <th>Sector_Retail</th>                                <td>    1.0787</td> <td>    1.217</td> <td>    0.886</td> <td> 0.376</td> <td>   -1.321</td> <td>    3.478</td>\n",
       "</tr>\n",
       "<tr>\n",
       "  <th>Sector_Transportation & Logistics</th>            <td>   -5.1322</td> <td>    1.751</td> <td>   -2.930</td> <td> 0.004</td> <td>   -8.586</td> <td>   -1.679</td>\n",
       "</tr>\n",
       "<tr>\n",
       "  <th>Revenue_$1 to $5 million (USD)</th>               <td>   25.7365</td> <td>    2.163</td> <td>   11.900</td> <td> 0.000</td> <td>   21.472</td> <td>   30.001</td>\n",
       "</tr>\n",
       "<tr>\n",
       "  <th>Revenue_$10+ billion (USD)</th>                   <td>   -1.7330</td> <td>    0.421</td> <td>   -4.119</td> <td> 0.000</td> <td>   -2.563</td> <td>   -0.903</td>\n",
       "</tr>\n",
       "<tr>\n",
       "  <th>Revenue_$100 to $500 million (USD)</th>           <td>   -9.9539</td> <td>    2.217</td> <td>   -4.489</td> <td> 0.000</td> <td>  -14.326</td> <td>   -5.582</td>\n",
       "</tr>\n",
       "<tr>\n",
       "  <th>Revenue_$2 to $5 billion (USD)</th>               <td>   -4.3792</td> <td>    2.082</td> <td>   -2.103</td> <td> 0.037</td> <td>   -8.484</td> <td>   -0.274</td>\n",
       "</tr>\n",
       "<tr>\n",
       "  <th>Revenue_$5 to $10 million (USD)</th>              <td>  -10.5619</td> <td>    2.331</td> <td>   -4.530</td> <td> 0.000</td> <td>  -15.159</td> <td>   -5.965</td>\n",
       "</tr>\n",
       "<tr>\n",
       "  <th>Revenue_-1</th>                                   <td>    4.6958</td> <td>    0.725</td> <td>    6.481</td> <td> 0.000</td> <td>    3.267</td> <td>    6.124</td>\n",
       "</tr>\n",
       "<tr>\n",
       "  <th>Revenue_Unknown / Non-Applicable</th>             <td>   17.8479</td> <td>    1.844</td> <td>    9.680</td> <td> 0.000</td> <td>   14.212</td> <td>   21.483</td>\n",
       "</tr>\n",
       "<tr>\n",
       "  <th>job_simp_associate analyst</th>                   <td>  -12.5680</td> <td>    5.166</td> <td>   -2.433</td> <td> 0.016</td> <td>  -22.754</td> <td>   -2.382</td>\n",
       "</tr>\n",
       "<tr>\n",
       "  <th>job_simp_business intelligence </th>              <td>   26.2887</td> <td>    2.029</td> <td>   12.959</td> <td> 0.000</td> <td>   22.289</td> <td>   30.289</td>\n",
       "</tr>\n",
       "<tr>\n",
       "  <th>job_simp_cx </th>                                 <td>   -2.8117</td> <td>    1.064</td> <td>   -2.643</td> <td> 0.009</td> <td>   -4.910</td> <td>   -0.714</td>\n",
       "</tr>\n",
       "<tr>\n",
       "  <th>job_simp_data analyst</th>                        <td>    2.1283</td> <td>    1.576</td> <td>    1.350</td> <td> 0.178</td> <td>   -0.979</td> <td>    5.236</td>\n",
       "</tr>\n",
       "<tr>\n",
       "  <th>job_simp_data analyst </th>                       <td>   15.2844</td> <td>    1.583</td> <td>    9.654</td> <td> 0.000</td> <td>   12.163</td> <td>   18.406</td>\n",
       "</tr>\n",
       "<tr>\n",
       "  <th>job_simp_data analytics ba</th>                   <td>   35.5441</td> <td>    6.620</td> <td>    5.369</td> <td> 0.000</td> <td>   22.491</td> <td>   48.598</td>\n",
       "</tr>\n",
       "<tr>\n",
       "  <th>job_simp_data migration analyst</th>              <td>   40.3654</td> <td>    3.277</td> <td>   12.317</td> <td> 0.000</td> <td>   33.904</td> <td>   46.827</td>\n",
       "</tr>\n",
       "<tr>\n",
       "  <th>job_simp_data science analyst</th>                <td>  -10.7744</td> <td>    2.434</td> <td>   -4.427</td> <td> 0.000</td> <td>  -15.573</td> <td>   -5.976</td>\n",
       "</tr>\n",
       "<tr>\n",
       "  <th>job_simp_fraud analyst</th>                       <td>  -10.5459</td> <td>    6.552</td> <td>   -1.610</td> <td> 0.109</td> <td>  -23.464</td> <td>    2.372</td>\n",
       "</tr>\n",
       "<tr>\n",
       "  <th>job_simp_gis analyst</th>                         <td>   -7.3878</td> <td>    3.283</td> <td>   -2.251</td> <td> 0.025</td> <td>  -13.860</td> <td>   -0.915</td>\n",
       "</tr>\n",
       "<tr>\n",
       "  <th>job_simp_hr analyst </th>                         <td>   -4.3792</td> <td>    2.082</td> <td>   -2.103</td> <td> 0.037</td> <td>   -8.484</td> <td>   -0.274</td>\n",
       "</tr>\n",
       "<tr>\n",
       "  <th>job_simp_industry analyst</th>                    <td>    2.4067</td> <td>    2.416</td> <td>    0.996</td> <td> 0.320</td> <td>   -2.357</td> <td>    7.171</td>\n",
       "</tr>\n",
       "<tr>\n",
       "  <th>job_simp_jr. business analyst</th>                <td>   -9.9539</td> <td>    2.217</td> <td>   -4.489</td> <td> 0.000</td> <td>  -14.326</td> <td>   -5.582</td>\n",
       "</tr>\n",
       "<tr>\n",
       "  <th>job_simp_junior analyst </th>                     <td>   -7.8271</td> <td>    3.281</td> <td>   -2.386</td> <td> 0.018</td> <td>  -14.296</td> <td>   -1.358</td>\n",
       "</tr>\n",
       "<tr>\n",
       "  <th>job_simp_junior data analyst </th>                <td>  -25.8081</td> <td>    2.436</td> <td>  -10.594</td> <td> 0.000</td> <td>  -30.611</td> <td>  -21.005</td>\n",
       "</tr>\n",
       "<tr>\n",
       "  <th>job_simp_mdm data analyst</th>                    <td>   -8.9505</td> <td>    1.453</td> <td>   -6.160</td> <td> 0.000</td> <td>  -11.816</td> <td>   -6.085</td>\n",
       "</tr>\n",
       "<tr>\n",
       "  <th>job_simp_operation data analyst </th>             <td>   18.4646</td> <td>    5.167</td> <td>    3.574</td> <td> 0.000</td> <td>    8.277</td> <td>   28.653</td>\n",
       "</tr>\n",
       "<tr>\n",
       "  <th>job_simp_real time analyst</th>                   <td>   11.3871</td> <td>    3.807</td> <td>    2.991</td> <td> 0.003</td> <td>    3.880</td> <td>   18.894</td>\n",
       "</tr>\n",
       "<tr>\n",
       "  <th>job_simp_research analyst</th>                    <td>    3.7262</td> <td>    3.386</td> <td>    1.101</td> <td> 0.272</td> <td>   -2.949</td> <td>   10.402</td>\n",
       "</tr>\n",
       "<tr>\n",
       "  <th>job_simp_senior data analyst</th>                 <td>   16.7406</td> <td>    2.234</td> <td>    7.494</td> <td> 0.000</td> <td>   12.336</td> <td>   21.145</td>\n",
       "</tr>\n",
       "<tr>\n",
       "  <th>job_simp_srm data analyst</th>                    <td>  -10.5619</td> <td>    2.331</td> <td>   -4.530</td> <td> 0.000</td> <td>  -15.159</td> <td>   -5.965</td>\n",
       "</tr>\n",
       "<tr>\n",
       "  <th>job_simp_system analyst</th>                      <td>   -5.8531</td> <td>    1.931</td> <td>   -3.031</td> <td> 0.003</td> <td>   -9.661</td> <td>   -2.045</td>\n",
       "</tr>\n",
       "<tr>\n",
       "  <th>job_simp_valuation and research analyst</th>      <td>  -21.9301</td> <td>    6.546</td> <td>   -3.350</td> <td> 0.001</td> <td>  -34.838</td> <td>   -9.022</td>\n",
       "</tr>\n",
       "<tr>\n",
       "  <th>job_simp_workforce management analyst</th>        <td>  -11.3323</td> <td>    6.627</td> <td>   -1.710</td> <td> 0.089</td> <td>  -24.400</td> <td>    1.735</td>\n",
       "</tr>\n",
       "</table>\n",
       "<table class=\"simpletable\">\n",
       "<tr>\n",
       "  <th>Omnibus:</th>       <td>177.490</td> <th>  Durbin-Watson:     </th> <td>   2.036</td>\n",
       "</tr>\n",
       "<tr>\n",
       "  <th>Prob(Omnibus):</th> <td> 0.000</td>  <th>  Jarque-Bera (JB):  </th> <td>1959.898</td>\n",
       "</tr>\n",
       "<tr>\n",
       "  <th>Skew:</th>          <td>-2.873</td>  <th>  Prob(JB):          </th> <td>    0.00</td>\n",
       "</tr>\n",
       "<tr>\n",
       "  <th>Kurtosis:</th>      <td>15.734</td>  <th>  Cond. No.          </th> <td>3.18e+18</td>\n",
       "</tr>\n",
       "</table><br/><br/>Notes:<br/>[1] Standard Errors assume that the covariance matrix of the errors is correctly specified.<br/>[2] The smallest eigenvalue is 6.96e-29. This might indicate that there are<br/>strong multicollinearity problems or that the design matrix is singular."
      ]
     },
     "metadata": {},
     "execution_count": 9
    }
   ],
   "metadata": {}
  },
  {
   "cell_type": "code",
   "execution_count": 10,
   "source": [
    "from sklearn.model_selection import cross_val_score\r\n",
    "from sklearn.linear_model import LinearRegression,Lasso\r\n",
    "cv = 3\r\n",
    "# Using multiple linear regression\r\n",
    "lr_model = LinearRegression()\r\n",
    "lr_model.fit(X_train,y_train)\r\n",
    "# Use cross validation to segregate data and calculate negative mean absolute error\r\n",
    "np.mean(cross_val_score(lr_model,X_train,y_train, scoring='neg_mean_absolute_error', cv=cv))"
   ],
   "outputs": [
    {
     "output_type": "execute_result",
     "data": {
      "text/plain": [
       "-5.152439781714782"
      ]
     },
     "metadata": {},
     "execution_count": 10
    }
   ],
   "metadata": {}
  },
  {
   "cell_type": "code",
   "execution_count": 11,
   "source": [
    "# Using lasso regreassion because alot sparse matrix\r\n",
    "lasso_model = Lasso()\r\n",
    "lasso_model.fit(X_train,y_train)\r\n",
    "np.mean(cross_val_score(lasso_model,X_train,y_train, scoring = 'neg_mean_absolute_error', cv= cv))"
   ],
   "outputs": [
    {
     "output_type": "execute_result",
     "data": {
      "text/plain": [
       "-12.689299141518148"
      ]
     },
     "metadata": {},
     "execution_count": 11
    }
   ],
   "metadata": {}
  },
  {
   "cell_type": "code",
   "execution_count": 12,
   "source": [
    "# Finding best alpha for lasso model\r\n",
    "alpha = []\r\n",
    "error = []\r\n",
    "\r\n",
    "for i in range(1,100):\r\n",
    "    alpha.append(i/100)\r\n",
    "    lasso_model = Lasso(alpha=(i/100))\r\n",
    "    error.append(np.mean(cross_val_score(lasso_model,X_train,y_train, scoring = 'neg_mean_absolute_error', cv= 3)))\r\n",
    "    \r\n",
    "plt.plot(alpha,error)\r\n",
    "\r\n",
    "err = tuple(zip(alpha,error))\r\n",
    "df_err = pd.DataFrame(err, columns = ['alpha','error'])\r\n",
    "df_err[df_err.error == max(df_err.error)]"
   ],
   "outputs": [
    {
     "output_type": "stream",
     "name": "stderr",
     "text": [
      "C:\\Users\\Darknman\\anaconda3\\lib\\site-packages\\sklearn\\linear_model\\_coordinate_descent.py:530: ConvergenceWarning: Objective did not converge. You might want to increase the number of iterations. Duality gap: 29.33533673954662, tolerance: 6.0164375\n",
      "  model = cd_fast.enet_coordinate_descent(\n",
      "C:\\Users\\Darknman\\anaconda3\\lib\\site-packages\\sklearn\\linear_model\\_coordinate_descent.py:530: ConvergenceWarning: Objective did not converge. You might want to increase the number of iterations. Duality gap: 1600.5930323603325, tolerance: 5.925613867187501\n",
      "  model = cd_fast.enet_coordinate_descent(\n"
     ]
    },
    {
     "output_type": "execute_result",
     "data": {
      "text/plain": [
       "   alpha     error\n",
       "1   0.02 -4.887804"
      ],
      "text/html": [
       "<div>\n",
       "<style scoped>\n",
       "    .dataframe tbody tr th:only-of-type {\n",
       "        vertical-align: middle;\n",
       "    }\n",
       "\n",
       "    .dataframe tbody tr th {\n",
       "        vertical-align: top;\n",
       "    }\n",
       "\n",
       "    .dataframe thead th {\n",
       "        text-align: right;\n",
       "    }\n",
       "</style>\n",
       "<table border=\"1\" class=\"dataframe\">\n",
       "  <thead>\n",
       "    <tr style=\"text-align: right;\">\n",
       "      <th></th>\n",
       "      <th>alpha</th>\n",
       "      <th>error</th>\n",
       "    </tr>\n",
       "  </thead>\n",
       "  <tbody>\n",
       "    <tr>\n",
       "      <th>1</th>\n",
       "      <td>0.02</td>\n",
       "      <td>-4.887804</td>\n",
       "    </tr>\n",
       "  </tbody>\n",
       "</table>\n",
       "</div>"
      ]
     },
     "metadata": {},
     "execution_count": 12
    },
    {
     "output_type": "display_data",
     "data": {
      "text/plain": [
       "<Figure size 432x288 with 1 Axes>"
      ],
      "image/svg+xml": "<?xml version=\"1.0\" encoding=\"utf-8\" standalone=\"no\"?>\r\n<!DOCTYPE svg PUBLIC \"-//W3C//DTD SVG 1.1//EN\"\r\n  \"http://www.w3.org/Graphics/SVG/1.1/DTD/svg11.dtd\">\r\n<!-- Created with matplotlib (https://matplotlib.org/) -->\r\n<svg height=\"248.518125pt\" version=\"1.1\" viewBox=\"0 0 377.304688 248.518125\" width=\"377.304688pt\" xmlns=\"http://www.w3.org/2000/svg\" xmlns:xlink=\"http://www.w3.org/1999/xlink\">\r\n <metadata>\r\n  <rdf:RDF xmlns:cc=\"http://creativecommons.org/ns#\" xmlns:dc=\"http://purl.org/dc/elements/1.1/\" xmlns:rdf=\"http://www.w3.org/1999/02/22-rdf-syntax-ns#\">\r\n   <cc:Work>\r\n    <dc:type rdf:resource=\"http://purl.org/dc/dcmitype/StillImage\"/>\r\n    <dc:date>2021-08-20T09:57:21.796724</dc:date>\r\n    <dc:format>image/svg+xml</dc:format>\r\n    <dc:creator>\r\n     <cc:Agent>\r\n      <dc:title>Matplotlib v3.3.4, https://matplotlib.org/</dc:title>\r\n     </cc:Agent>\r\n    </dc:creator>\r\n   </cc:Work>\r\n  </rdf:RDF>\r\n </metadata>\r\n <defs>\r\n  <style type=\"text/css\">*{stroke-linecap:butt;stroke-linejoin:round;}</style>\r\n </defs>\r\n <g id=\"figure_1\">\r\n  <g id=\"patch_1\">\r\n   <path d=\"M 0 248.518125 \r\nL 377.304688 248.518125 \r\nL 377.304688 0 \r\nL 0 0 \r\nz\r\n\" style=\"fill:none;\"/>\r\n  </g>\r\n  <g id=\"axes_1\">\r\n   <g id=\"patch_2\">\r\n    <path d=\"M 35.304688 224.64 \r\nL 370.104688 224.64 \r\nL 370.104688 7.2 \r\nL 35.304688 7.2 \r\nz\r\n\" style=\"fill:#ffffff;\"/>\r\n   </g>\r\n   <g id=\"matplotlib.axis_1\">\r\n    <g id=\"xtick_1\">\r\n     <g id=\"line2d_1\">\r\n      <defs>\r\n       <path d=\"M 0 0 \r\nL 0 3.5 \r\n\" id=\"me7e3c7ebae\" style=\"stroke:#000000;stroke-width:0.8;\"/>\r\n      </defs>\r\n      <g>\r\n       <use style=\"stroke:#000000;stroke-width:0.8;\" x=\"47.417118\" xlink:href=\"#me7e3c7ebae\" y=\"224.64\"/>\r\n      </g>\r\n     </g>\r\n     <g id=\"text_1\">\r\n      <!-- 0.0 -->\r\n      <g transform=\"translate(39.465555 239.238437)scale(0.1 -0.1)\">\r\n       <defs>\r\n        <path d=\"M 31.78125 66.40625 \r\nQ 24.171875 66.40625 20.328125 58.90625 \r\nQ 16.5 51.421875 16.5 36.375 \r\nQ 16.5 21.390625 20.328125 13.890625 \r\nQ 24.171875 6.390625 31.78125 6.390625 \r\nQ 39.453125 6.390625 43.28125 13.890625 \r\nQ 47.125 21.390625 47.125 36.375 \r\nQ 47.125 51.421875 43.28125 58.90625 \r\nQ 39.453125 66.40625 31.78125 66.40625 \r\nz\r\nM 31.78125 74.21875 \r\nQ 44.046875 74.21875 50.515625 64.515625 \r\nQ 56.984375 54.828125 56.984375 36.375 \r\nQ 56.984375 17.96875 50.515625 8.265625 \r\nQ 44.046875 -1.421875 31.78125 -1.421875 \r\nQ 19.53125 -1.421875 13.0625 8.265625 \r\nQ 6.59375 17.96875 6.59375 36.375 \r\nQ 6.59375 54.828125 13.0625 64.515625 \r\nQ 19.53125 74.21875 31.78125 74.21875 \r\nz\r\n\" id=\"DejaVuSans-48\"/>\r\n        <path d=\"M 10.6875 12.40625 \r\nL 21 12.40625 \r\nL 21 0 \r\nL 10.6875 0 \r\nz\r\n\" id=\"DejaVuSans-46\"/>\r\n       </defs>\r\n       <use xlink:href=\"#DejaVuSans-48\"/>\r\n       <use x=\"63.623047\" xlink:href=\"#DejaVuSans-46\"/>\r\n       <use x=\"95.410156\" xlink:href=\"#DejaVuSans-48\"/>\r\n      </g>\r\n     </g>\r\n    </g>\r\n    <g id=\"xtick_2\">\r\n     <g id=\"line2d_2\">\r\n      <g>\r\n       <use style=\"stroke:#000000;stroke-width:0.8;\" x=\"109.532146\" xlink:href=\"#me7e3c7ebae\" y=\"224.64\"/>\r\n      </g>\r\n     </g>\r\n     <g id=\"text_2\">\r\n      <!-- 0.2 -->\r\n      <g transform=\"translate(101.580583 239.238437)scale(0.1 -0.1)\">\r\n       <defs>\r\n        <path d=\"M 19.1875 8.296875 \r\nL 53.609375 8.296875 \r\nL 53.609375 0 \r\nL 7.328125 0 \r\nL 7.328125 8.296875 \r\nQ 12.9375 14.109375 22.625 23.890625 \r\nQ 32.328125 33.6875 34.8125 36.53125 \r\nQ 39.546875 41.84375 41.421875 45.53125 \r\nQ 43.3125 49.21875 43.3125 52.78125 \r\nQ 43.3125 58.59375 39.234375 62.25 \r\nQ 35.15625 65.921875 28.609375 65.921875 \r\nQ 23.96875 65.921875 18.8125 64.3125 \r\nQ 13.671875 62.703125 7.8125 59.421875 \r\nL 7.8125 69.390625 \r\nQ 13.765625 71.78125 18.9375 73 \r\nQ 24.125 74.21875 28.421875 74.21875 \r\nQ 39.75 74.21875 46.484375 68.546875 \r\nQ 53.21875 62.890625 53.21875 53.421875 \r\nQ 53.21875 48.921875 51.53125 44.890625 \r\nQ 49.859375 40.875 45.40625 35.40625 \r\nQ 44.1875 33.984375 37.640625 27.21875 \r\nQ 31.109375 20.453125 19.1875 8.296875 \r\nz\r\n\" id=\"DejaVuSans-50\"/>\r\n       </defs>\r\n       <use xlink:href=\"#DejaVuSans-48\"/>\r\n       <use x=\"63.623047\" xlink:href=\"#DejaVuSans-46\"/>\r\n       <use x=\"95.410156\" xlink:href=\"#DejaVuSans-50\"/>\r\n      </g>\r\n     </g>\r\n    </g>\r\n    <g id=\"xtick_3\">\r\n     <g id=\"line2d_3\">\r\n      <g>\r\n       <use style=\"stroke:#000000;stroke-width:0.8;\" x=\"171.647174\" xlink:href=\"#me7e3c7ebae\" y=\"224.64\"/>\r\n      </g>\r\n     </g>\r\n     <g id=\"text_3\">\r\n      <!-- 0.4 -->\r\n      <g transform=\"translate(163.695611 239.238437)scale(0.1 -0.1)\">\r\n       <defs>\r\n        <path d=\"M 37.796875 64.3125 \r\nL 12.890625 25.390625 \r\nL 37.796875 25.390625 \r\nz\r\nM 35.203125 72.90625 \r\nL 47.609375 72.90625 \r\nL 47.609375 25.390625 \r\nL 58.015625 25.390625 \r\nL 58.015625 17.1875 \r\nL 47.609375 17.1875 \r\nL 47.609375 0 \r\nL 37.796875 0 \r\nL 37.796875 17.1875 \r\nL 4.890625 17.1875 \r\nL 4.890625 26.703125 \r\nz\r\n\" id=\"DejaVuSans-52\"/>\r\n       </defs>\r\n       <use xlink:href=\"#DejaVuSans-48\"/>\r\n       <use x=\"63.623047\" xlink:href=\"#DejaVuSans-46\"/>\r\n       <use x=\"95.410156\" xlink:href=\"#DejaVuSans-52\"/>\r\n      </g>\r\n     </g>\r\n    </g>\r\n    <g id=\"xtick_4\">\r\n     <g id=\"line2d_4\">\r\n      <g>\r\n       <use style=\"stroke:#000000;stroke-width:0.8;\" x=\"233.762201\" xlink:href=\"#me7e3c7ebae\" y=\"224.64\"/>\r\n      </g>\r\n     </g>\r\n     <g id=\"text_4\">\r\n      <!-- 0.6 -->\r\n      <g transform=\"translate(225.810639 239.238437)scale(0.1 -0.1)\">\r\n       <defs>\r\n        <path d=\"M 33.015625 40.375 \r\nQ 26.375 40.375 22.484375 35.828125 \r\nQ 18.609375 31.296875 18.609375 23.390625 \r\nQ 18.609375 15.53125 22.484375 10.953125 \r\nQ 26.375 6.390625 33.015625 6.390625 \r\nQ 39.65625 6.390625 43.53125 10.953125 \r\nQ 47.40625 15.53125 47.40625 23.390625 \r\nQ 47.40625 31.296875 43.53125 35.828125 \r\nQ 39.65625 40.375 33.015625 40.375 \r\nz\r\nM 52.59375 71.296875 \r\nL 52.59375 62.3125 \r\nQ 48.875 64.0625 45.09375 64.984375 \r\nQ 41.3125 65.921875 37.59375 65.921875 \r\nQ 27.828125 65.921875 22.671875 59.328125 \r\nQ 17.53125 52.734375 16.796875 39.40625 \r\nQ 19.671875 43.65625 24.015625 45.921875 \r\nQ 28.375 48.1875 33.59375 48.1875 \r\nQ 44.578125 48.1875 50.953125 41.515625 \r\nQ 57.328125 34.859375 57.328125 23.390625 \r\nQ 57.328125 12.15625 50.6875 5.359375 \r\nQ 44.046875 -1.421875 33.015625 -1.421875 \r\nQ 20.359375 -1.421875 13.671875 8.265625 \r\nQ 6.984375 17.96875 6.984375 36.375 \r\nQ 6.984375 53.65625 15.1875 63.9375 \r\nQ 23.390625 74.21875 37.203125 74.21875 \r\nQ 40.921875 74.21875 44.703125 73.484375 \r\nQ 48.484375 72.75 52.59375 71.296875 \r\nz\r\n\" id=\"DejaVuSans-54\"/>\r\n       </defs>\r\n       <use xlink:href=\"#DejaVuSans-48\"/>\r\n       <use x=\"63.623047\" xlink:href=\"#DejaVuSans-46\"/>\r\n       <use x=\"95.410156\" xlink:href=\"#DejaVuSans-54\"/>\r\n      </g>\r\n     </g>\r\n    </g>\r\n    <g id=\"xtick_5\">\r\n     <g id=\"line2d_5\">\r\n      <g>\r\n       <use style=\"stroke:#000000;stroke-width:0.8;\" x=\"295.877229\" xlink:href=\"#me7e3c7ebae\" y=\"224.64\"/>\r\n      </g>\r\n     </g>\r\n     <g id=\"text_5\">\r\n      <!-- 0.8 -->\r\n      <g transform=\"translate(287.925667 239.238437)scale(0.1 -0.1)\">\r\n       <defs>\r\n        <path d=\"M 31.78125 34.625 \r\nQ 24.75 34.625 20.71875 30.859375 \r\nQ 16.703125 27.09375 16.703125 20.515625 \r\nQ 16.703125 13.921875 20.71875 10.15625 \r\nQ 24.75 6.390625 31.78125 6.390625 \r\nQ 38.8125 6.390625 42.859375 10.171875 \r\nQ 46.921875 13.96875 46.921875 20.515625 \r\nQ 46.921875 27.09375 42.890625 30.859375 \r\nQ 38.875 34.625 31.78125 34.625 \r\nz\r\nM 21.921875 38.8125 \r\nQ 15.578125 40.375 12.03125 44.71875 \r\nQ 8.5 49.078125 8.5 55.328125 \r\nQ 8.5 64.0625 14.71875 69.140625 \r\nQ 20.953125 74.21875 31.78125 74.21875 \r\nQ 42.671875 74.21875 48.875 69.140625 \r\nQ 55.078125 64.0625 55.078125 55.328125 \r\nQ 55.078125 49.078125 51.53125 44.71875 \r\nQ 48 40.375 41.703125 38.8125 \r\nQ 48.828125 37.15625 52.796875 32.3125 \r\nQ 56.78125 27.484375 56.78125 20.515625 \r\nQ 56.78125 9.90625 50.3125 4.234375 \r\nQ 43.84375 -1.421875 31.78125 -1.421875 \r\nQ 19.734375 -1.421875 13.25 4.234375 \r\nQ 6.78125 9.90625 6.78125 20.515625 \r\nQ 6.78125 27.484375 10.78125 32.3125 \r\nQ 14.796875 37.15625 21.921875 38.8125 \r\nz\r\nM 18.3125 54.390625 \r\nQ 18.3125 48.734375 21.84375 45.5625 \r\nQ 25.390625 42.390625 31.78125 42.390625 \r\nQ 38.140625 42.390625 41.71875 45.5625 \r\nQ 45.3125 48.734375 45.3125 54.390625 \r\nQ 45.3125 60.0625 41.71875 63.234375 \r\nQ 38.140625 66.40625 31.78125 66.40625 \r\nQ 25.390625 66.40625 21.84375 63.234375 \r\nQ 18.3125 60.0625 18.3125 54.390625 \r\nz\r\n\" id=\"DejaVuSans-56\"/>\r\n       </defs>\r\n       <use xlink:href=\"#DejaVuSans-48\"/>\r\n       <use x=\"63.623047\" xlink:href=\"#DejaVuSans-46\"/>\r\n       <use x=\"95.410156\" xlink:href=\"#DejaVuSans-56\"/>\r\n      </g>\r\n     </g>\r\n    </g>\r\n    <g id=\"xtick_6\">\r\n     <g id=\"line2d_6\">\r\n      <g>\r\n       <use style=\"stroke:#000000;stroke-width:0.8;\" x=\"357.992257\" xlink:href=\"#me7e3c7ebae\" y=\"224.64\"/>\r\n      </g>\r\n     </g>\r\n     <g id=\"text_6\">\r\n      <!-- 1.0 -->\r\n      <g transform=\"translate(350.040695 239.238437)scale(0.1 -0.1)\">\r\n       <defs>\r\n        <path d=\"M 12.40625 8.296875 \r\nL 28.515625 8.296875 \r\nL 28.515625 63.921875 \r\nL 10.984375 60.40625 \r\nL 10.984375 69.390625 \r\nL 28.421875 72.90625 \r\nL 38.28125 72.90625 \r\nL 38.28125 8.296875 \r\nL 54.390625 8.296875 \r\nL 54.390625 0 \r\nL 12.40625 0 \r\nz\r\n\" id=\"DejaVuSans-49\"/>\r\n       </defs>\r\n       <use xlink:href=\"#DejaVuSans-49\"/>\r\n       <use x=\"63.623047\" xlink:href=\"#DejaVuSans-46\"/>\r\n       <use x=\"95.410156\" xlink:href=\"#DejaVuSans-48\"/>\r\n      </g>\r\n     </g>\r\n    </g>\r\n   </g>\r\n   <g id=\"matplotlib.axis_2\">\r\n    <g id=\"ytick_1\">\r\n     <g id=\"line2d_7\">\r\n      <defs>\r\n       <path d=\"M 0 0 \r\nL -3.5 0 \r\n\" id=\"m6e0fe2199a\" style=\"stroke:#000000;stroke-width:0.8;\"/>\r\n      </defs>\r\n      <g>\r\n       <use style=\"stroke:#000000;stroke-width:0.8;\" x=\"35.304688\" xlink:href=\"#m6e0fe2199a\" y=\"223.767194\"/>\r\n      </g>\r\n     </g>\r\n     <g id=\"text_7\">\r\n      <!-- −13 -->\r\n      <g transform=\"translate(7.2 227.566413)scale(0.1 -0.1)\">\r\n       <defs>\r\n        <path d=\"M 10.59375 35.5 \r\nL 73.1875 35.5 \r\nL 73.1875 27.203125 \r\nL 10.59375 27.203125 \r\nz\r\n\" id=\"DejaVuSans-8722\"/>\r\n        <path d=\"M 40.578125 39.3125 \r\nQ 47.65625 37.796875 51.625 33 \r\nQ 55.609375 28.21875 55.609375 21.1875 \r\nQ 55.609375 10.40625 48.1875 4.484375 \r\nQ 40.765625 -1.421875 27.09375 -1.421875 \r\nQ 22.515625 -1.421875 17.65625 -0.515625 \r\nQ 12.796875 0.390625 7.625 2.203125 \r\nL 7.625 11.71875 \r\nQ 11.71875 9.328125 16.59375 8.109375 \r\nQ 21.484375 6.890625 26.8125 6.890625 \r\nQ 36.078125 6.890625 40.9375 10.546875 \r\nQ 45.796875 14.203125 45.796875 21.1875 \r\nQ 45.796875 27.640625 41.28125 31.265625 \r\nQ 36.765625 34.90625 28.71875 34.90625 \r\nL 20.21875 34.90625 \r\nL 20.21875 43.015625 \r\nL 29.109375 43.015625 \r\nQ 36.375 43.015625 40.234375 45.921875 \r\nQ 44.09375 48.828125 44.09375 54.296875 \r\nQ 44.09375 59.90625 40.109375 62.90625 \r\nQ 36.140625 65.921875 28.71875 65.921875 \r\nQ 24.65625 65.921875 20.015625 65.03125 \r\nQ 15.375 64.15625 9.8125 62.3125 \r\nL 9.8125 71.09375 \r\nQ 15.4375 72.65625 20.34375 73.4375 \r\nQ 25.25 74.21875 29.59375 74.21875 \r\nQ 40.828125 74.21875 47.359375 69.109375 \r\nQ 53.90625 64.015625 53.90625 55.328125 \r\nQ 53.90625 49.265625 50.4375 45.09375 \r\nQ 46.96875 40.921875 40.578125 39.3125 \r\nz\r\n\" id=\"DejaVuSans-51\"/>\r\n       </defs>\r\n       <use xlink:href=\"#DejaVuSans-8722\"/>\r\n       <use x=\"83.789062\" xlink:href=\"#DejaVuSans-49\"/>\r\n       <use x=\"147.412109\" xlink:href=\"#DejaVuSans-51\"/>\r\n      </g>\r\n     </g>\r\n    </g>\r\n    <g id=\"ytick_2\">\r\n     <g id=\"line2d_8\">\r\n      <g>\r\n       <use style=\"stroke:#000000;stroke-width:0.8;\" x=\"35.304688\" xlink:href=\"#m6e0fe2199a\" y=\"198.289068\"/>\r\n      </g>\r\n     </g>\r\n     <g id=\"text_8\">\r\n      <!-- −12 -->\r\n      <g transform=\"translate(7.2 202.088287)scale(0.1 -0.1)\">\r\n       <use xlink:href=\"#DejaVuSans-8722\"/>\r\n       <use x=\"83.789062\" xlink:href=\"#DejaVuSans-49\"/>\r\n       <use x=\"147.412109\" xlink:href=\"#DejaVuSans-50\"/>\r\n      </g>\r\n     </g>\r\n    </g>\r\n    <g id=\"ytick_3\">\r\n     <g id=\"line2d_9\">\r\n      <g>\r\n       <use style=\"stroke:#000000;stroke-width:0.8;\" x=\"35.304688\" xlink:href=\"#m6e0fe2199a\" y=\"172.810943\"/>\r\n      </g>\r\n     </g>\r\n     <g id=\"text_9\">\r\n      <!-- −11 -->\r\n      <g transform=\"translate(7.2 176.610162)scale(0.1 -0.1)\">\r\n       <use xlink:href=\"#DejaVuSans-8722\"/>\r\n       <use x=\"83.789062\" xlink:href=\"#DejaVuSans-49\"/>\r\n       <use x=\"147.412109\" xlink:href=\"#DejaVuSans-49\"/>\r\n      </g>\r\n     </g>\r\n    </g>\r\n    <g id=\"ytick_4\">\r\n     <g id=\"line2d_10\">\r\n      <g>\r\n       <use style=\"stroke:#000000;stroke-width:0.8;\" x=\"35.304688\" xlink:href=\"#m6e0fe2199a\" y=\"147.332818\"/>\r\n      </g>\r\n     </g>\r\n     <g id=\"text_10\">\r\n      <!-- −10 -->\r\n      <g transform=\"translate(7.2 151.132036)scale(0.1 -0.1)\">\r\n       <use xlink:href=\"#DejaVuSans-8722\"/>\r\n       <use x=\"83.789062\" xlink:href=\"#DejaVuSans-49\"/>\r\n       <use x=\"147.412109\" xlink:href=\"#DejaVuSans-48\"/>\r\n      </g>\r\n     </g>\r\n    </g>\r\n    <g id=\"ytick_5\">\r\n     <g id=\"line2d_11\">\r\n      <g>\r\n       <use style=\"stroke:#000000;stroke-width:0.8;\" x=\"35.304688\" xlink:href=\"#m6e0fe2199a\" y=\"121.854692\"/>\r\n      </g>\r\n     </g>\r\n     <g id=\"text_11\">\r\n      <!-- −9 -->\r\n      <g transform=\"translate(13.5625 125.653911)scale(0.1 -0.1)\">\r\n       <defs>\r\n        <path d=\"M 10.984375 1.515625 \r\nL 10.984375 10.5 \r\nQ 14.703125 8.734375 18.5 7.8125 \r\nQ 22.3125 6.890625 25.984375 6.890625 \r\nQ 35.75 6.890625 40.890625 13.453125 \r\nQ 46.046875 20.015625 46.78125 33.40625 \r\nQ 43.953125 29.203125 39.59375 26.953125 \r\nQ 35.25 24.703125 29.984375 24.703125 \r\nQ 19.046875 24.703125 12.671875 31.3125 \r\nQ 6.296875 37.9375 6.296875 49.421875 \r\nQ 6.296875 60.640625 12.9375 67.421875 \r\nQ 19.578125 74.21875 30.609375 74.21875 \r\nQ 43.265625 74.21875 49.921875 64.515625 \r\nQ 56.59375 54.828125 56.59375 36.375 \r\nQ 56.59375 19.140625 48.40625 8.859375 \r\nQ 40.234375 -1.421875 26.421875 -1.421875 \r\nQ 22.703125 -1.421875 18.890625 -0.6875 \r\nQ 15.09375 0.046875 10.984375 1.515625 \r\nz\r\nM 30.609375 32.421875 \r\nQ 37.25 32.421875 41.125 36.953125 \r\nQ 45.015625 41.5 45.015625 49.421875 \r\nQ 45.015625 57.28125 41.125 61.84375 \r\nQ 37.25 66.40625 30.609375 66.40625 \r\nQ 23.96875 66.40625 20.09375 61.84375 \r\nQ 16.21875 57.28125 16.21875 49.421875 \r\nQ 16.21875 41.5 20.09375 36.953125 \r\nQ 23.96875 32.421875 30.609375 32.421875 \r\nz\r\n\" id=\"DejaVuSans-57\"/>\r\n       </defs>\r\n       <use xlink:href=\"#DejaVuSans-8722\"/>\r\n       <use x=\"83.789062\" xlink:href=\"#DejaVuSans-57\"/>\r\n      </g>\r\n     </g>\r\n    </g>\r\n    <g id=\"ytick_6\">\r\n     <g id=\"line2d_12\">\r\n      <g>\r\n       <use style=\"stroke:#000000;stroke-width:0.8;\" x=\"35.304688\" xlink:href=\"#m6e0fe2199a\" y=\"96.376567\"/>\r\n      </g>\r\n     </g>\r\n     <g id=\"text_12\">\r\n      <!-- −8 -->\r\n      <g transform=\"translate(13.5625 100.175785)scale(0.1 -0.1)\">\r\n       <use xlink:href=\"#DejaVuSans-8722\"/>\r\n       <use x=\"83.789062\" xlink:href=\"#DejaVuSans-56\"/>\r\n      </g>\r\n     </g>\r\n    </g>\r\n    <g id=\"ytick_7\">\r\n     <g id=\"line2d_13\">\r\n      <g>\r\n       <use style=\"stroke:#000000;stroke-width:0.8;\" x=\"35.304688\" xlink:href=\"#m6e0fe2199a\" y=\"70.898441\"/>\r\n      </g>\r\n     </g>\r\n     <g id=\"text_13\">\r\n      <!-- −7 -->\r\n      <g transform=\"translate(13.5625 74.69766)scale(0.1 -0.1)\">\r\n       <defs>\r\n        <path d=\"M 8.203125 72.90625 \r\nL 55.078125 72.90625 \r\nL 55.078125 68.703125 \r\nL 28.609375 0 \r\nL 18.3125 0 \r\nL 43.21875 64.59375 \r\nL 8.203125 64.59375 \r\nz\r\n\" id=\"DejaVuSans-55\"/>\r\n       </defs>\r\n       <use xlink:href=\"#DejaVuSans-8722\"/>\r\n       <use x=\"83.789062\" xlink:href=\"#DejaVuSans-55\"/>\r\n      </g>\r\n     </g>\r\n    </g>\r\n    <g id=\"ytick_8\">\r\n     <g id=\"line2d_14\">\r\n      <g>\r\n       <use style=\"stroke:#000000;stroke-width:0.8;\" x=\"35.304688\" xlink:href=\"#m6e0fe2199a\" y=\"45.420316\"/>\r\n      </g>\r\n     </g>\r\n     <g id=\"text_14\">\r\n      <!-- −6 -->\r\n      <g transform=\"translate(13.5625 49.219534)scale(0.1 -0.1)\">\r\n       <use xlink:href=\"#DejaVuSans-8722\"/>\r\n       <use x=\"83.789062\" xlink:href=\"#DejaVuSans-54\"/>\r\n      </g>\r\n     </g>\r\n    </g>\r\n    <g id=\"ytick_9\">\r\n     <g id=\"line2d_15\">\r\n      <g>\r\n       <use style=\"stroke:#000000;stroke-width:0.8;\" x=\"35.304688\" xlink:href=\"#m6e0fe2199a\" y=\"19.94219\"/>\r\n      </g>\r\n     </g>\r\n     <g id=\"text_15\">\r\n      <!-- −5 -->\r\n      <g transform=\"translate(13.5625 23.741409)scale(0.1 -0.1)\">\r\n       <defs>\r\n        <path d=\"M 10.796875 72.90625 \r\nL 49.515625 72.90625 \r\nL 49.515625 64.59375 \r\nL 19.828125 64.59375 \r\nL 19.828125 46.734375 \r\nQ 21.96875 47.46875 24.109375 47.828125 \r\nQ 26.265625 48.1875 28.421875 48.1875 \r\nQ 40.625 48.1875 47.75 41.5 \r\nQ 54.890625 34.8125 54.890625 23.390625 \r\nQ 54.890625 11.625 47.5625 5.09375 \r\nQ 40.234375 -1.421875 26.90625 -1.421875 \r\nQ 22.3125 -1.421875 17.546875 -0.640625 \r\nQ 12.796875 0.140625 7.71875 1.703125 \r\nL 7.71875 11.625 \r\nQ 12.109375 9.234375 16.796875 8.0625 \r\nQ 21.484375 6.890625 26.703125 6.890625 \r\nQ 35.15625 6.890625 40.078125 11.328125 \r\nQ 45.015625 15.765625 45.015625 23.390625 \r\nQ 45.015625 31 40.078125 35.4375 \r\nQ 35.15625 39.890625 26.703125 39.890625 \r\nQ 22.75 39.890625 18.8125 39.015625 \r\nQ 14.890625 38.140625 10.796875 36.28125 \r\nz\r\n\" id=\"DejaVuSans-53\"/>\r\n       </defs>\r\n       <use xlink:href=\"#DejaVuSans-8722\"/>\r\n       <use x=\"83.789062\" xlink:href=\"#DejaVuSans-53\"/>\r\n      </g>\r\n     </g>\r\n    </g>\r\n   </g>\r\n   <g id=\"line2d_16\">\r\n    <path clip-path=\"url(#pdcd2048b12)\" d=\"M 50.522869 17.846359 \r\nL 53.628621 17.083636 \r\nL 56.734372 17.410001 \r\nL 59.840123 19.318511 \r\nL 62.945875 22.370082 \r\nL 66.051626 24.238244 \r\nL 69.157378 25.413327 \r\nL 72.263129 27.047496 \r\nL 75.36888 29.122416 \r\nL 78.474632 31.76509 \r\nL 81.580383 35.004189 \r\nL 84.686135 38.313233 \r\nL 87.791886 41.356275 \r\nL 90.897637 44.505006 \r\nL 94.003389 47.335204 \r\nL 97.10914 49.797282 \r\nL 100.214892 52.10516 \r\nL 103.320643 54.282477 \r\nL 106.426394 56.487473 \r\nL 109.532146 58.999008 \r\nL 112.637897 61.533515 \r\nL 115.743649 64.072089 \r\nL 118.8494 66.732703 \r\nL 121.955151 69.495375 \r\nL 125.060903 72.25719 \r\nL 128.166654 75.018284 \r\nL 131.272405 77.792123 \r\nL 134.378157 80.583811 \r\nL 137.483908 83.375101 \r\nL 140.58966 86.10058 \r\nL 143.695411 88.721427 \r\nL 146.801162 91.311598 \r\nL 149.906914 93.913358 \r\nL 153.012665 96.501703 \r\nL 156.118417 99.035533 \r\nL 159.224168 101.414039 \r\nL 162.329919 103.827049 \r\nL 165.435671 106.357672 \r\nL 168.541422 108.79921 \r\nL 171.647174 111.240033 \r\nL 174.752925 113.681894 \r\nL 177.858676 116.122296 \r\nL 180.964428 118.673279 \r\nL 184.070179 121.242782 \r\nL 187.175931 123.812076 \r\nL 190.281682 126.287955 \r\nL 193.387433 128.697006 \r\nL 196.493185 131.039029 \r\nL 199.598936 133.400374 \r\nL 202.704688 135.785113 \r\nL 205.810439 138.207211 \r\nL 208.91619 140.631558 \r\nL 212.021942 143.053726 \r\nL 215.127693 145.476052 \r\nL 218.233444 147.875952 \r\nL 221.339196 150.216176 \r\nL 224.444947 152.424784 \r\nL 227.550699 154.365323 \r\nL 230.65645 156.23888 \r\nL 233.762201 158.112662 \r\nL 236.867953 159.985937 \r\nL 239.973704 161.901891 \r\nL 243.079456 163.875522 \r\nL 246.185207 165.849295 \r\nL 249.290958 167.803403 \r\nL 252.39671 169.641582 \r\nL 255.502461 171.393655 \r\nL 258.608213 173.085668 \r\nL 261.713964 174.72187 \r\nL 264.819715 176.337072 \r\nL 267.925467 177.88608 \r\nL 271.031218 179.39171 \r\nL 274.13697 180.888822 \r\nL 277.242721 182.349197 \r\nL 280.348472 183.798316 \r\nL 283.454224 185.215411 \r\nL 286.559975 186.631999 \r\nL 289.665726 188.048078 \r\nL 292.771478 189.465227 \r\nL 295.877229 190.927075 \r\nL 298.982981 192.42143 \r\nL 302.088732 193.917494 \r\nL 305.194483 195.413749 \r\nL 308.300235 196.850345 \r\nL 311.405986 198.239049 \r\nL 314.511738 199.627817 \r\nL 317.617489 201.016712 \r\nL 320.72324 202.28012 \r\nL 323.828992 203.513902 \r\nL 326.934743 204.743885 \r\nL 330.040495 205.906251 \r\nL 333.146246 207.01685 \r\nL 336.251997 208.128093 \r\nL 339.357749 209.23974 \r\nL 342.4635 210.352002 \r\nL 345.569252 211.465888 \r\nL 348.675003 212.576713 \r\nL 351.780754 213.665862 \r\nL 354.886506 214.756364 \r\n\" style=\"fill:none;stroke:#1f77b4;stroke-linecap:square;stroke-width:1.5;\"/>\r\n   </g>\r\n   <g id=\"patch_3\">\r\n    <path d=\"M 35.304688 224.64 \r\nL 35.304688 7.2 \r\n\" style=\"fill:none;stroke:#000000;stroke-linecap:square;stroke-linejoin:miter;stroke-width:0.8;\"/>\r\n   </g>\r\n   <g id=\"patch_4\">\r\n    <path d=\"M 370.104688 224.64 \r\nL 370.104688 7.2 \r\n\" style=\"fill:none;stroke:#000000;stroke-linecap:square;stroke-linejoin:miter;stroke-width:0.8;\"/>\r\n   </g>\r\n   <g id=\"patch_5\">\r\n    <path d=\"M 35.304688 224.64 \r\nL 370.104688 224.64 \r\n\" style=\"fill:none;stroke:#000000;stroke-linecap:square;stroke-linejoin:miter;stroke-width:0.8;\"/>\r\n   </g>\r\n   <g id=\"patch_6\">\r\n    <path d=\"M 35.304688 7.2 \r\nL 370.104688 7.2 \r\n\" style=\"fill:none;stroke:#000000;stroke-linecap:square;stroke-linejoin:miter;stroke-width:0.8;\"/>\r\n   </g>\r\n  </g>\r\n </g>\r\n <defs>\r\n  <clipPath id=\"pdcd2048b12\">\r\n   <rect height=\"217.44\" width=\"334.8\" x=\"35.304688\" y=\"7.2\"/>\r\n  </clipPath>\r\n </defs>\r\n</svg>\r\n",
      "image/png": "[encoded data removed]"
     },
     "metadata": {
      "needs_background": "light"
     }
    }
   ],
   "metadata": {}
  },
  {
   "cell_type": "code",
   "execution_count": 13,
   "source": [
    "# Update lasso parameter\r\n",
    "lasso_model = Lasso(alpha=0.02)\r\n",
    "lasso_model.fit(X_train,y_train)\r\n",
    "np.mean(cross_val_score(lasso_model,X_train,y_train, scoring = 'neg_mean_absolute_error', cv= cv))"
   ],
   "outputs": [
    {
     "output_type": "stream",
     "name": "stderr",
     "text": [
      "C:\\Users\\Darknman\\anaconda3\\lib\\site-packages\\sklearn\\linear_model\\_coordinate_descent.py:530: ConvergenceWarning: Objective did not converge. You might want to increase the number of iterations. Duality gap: 4706.880942707792, tolerance: 8.6111203125\n",
      "  model = cd_fast.enet_coordinate_descent(\n"
     ]
    },
    {
     "output_type": "execute_result",
     "data": {
      "text/plain": [
       "-4.887803602750557"
      ]
     },
     "metadata": {},
     "execution_count": 13
    }
   ],
   "metadata": {}
  },
  {
   "cell_type": "code",
   "execution_count": 14,
   "source": [
    "# Using random forest  because alot sparse matrix(tree base model to compare linear model)\r\n",
    "from sklearn.ensemble import RandomForestRegressor\r\n",
    "rf_model = RandomForestRegressor()\r\n",
    "rf_model.fit(X_train,y_train)\r\n",
    "np.mean(cross_val_score(rf_model,X_train,y_train, scoring='neg_mean_absolute_error', cv=cv))\r\n"
   ],
   "outputs": [
    {
     "output_type": "execute_result",
     "data": {
      "text/plain": [
       "-2.5209635416666667"
      ]
     },
     "metadata": {},
     "execution_count": 14
    }
   ],
   "metadata": {}
  },
  {
   "cell_type": "markdown",
   "source": [
    "**We can see that in 3 iterations we get lowest negative MAE for RandomForestRegressor. This is pretty good but we want to test few other algorithms for regression to see if we can get even better score. We will use GridSearchCV for this purpose**"
   ],
   "metadata": {}
  },
  {
   "cell_type": "code",
   "execution_count": 15,
   "source": [
    "# Random forest had lowest negative MAE\r\n",
    "# Tune Random forest with multiple parameters using GridSearchCV\r\n",
    "from sklearn.model_selection import GridSearchCV\r\n",
    "parameters = {'n_estimators':range(10,300,10), 'criterion':('mse','mae'), 'max_features':('auto','sqrt','log2')}\r\n",
    "gsv = GridSearchCV(rf_model,parameters,scoring='neg_mean_absolute_error',cv=cv)\r\n",
    "gsv.fit(X_train,y_train)"
   ],
   "outputs": [
    {
     "output_type": "execute_result",
     "data": {
      "text/plain": [
       "GridSearchCV(cv=3, estimator=RandomForestRegressor(),\n",
       "             param_grid={'criterion': ('mse', 'mae'),\n",
       "                         'max_features': ('auto', 'sqrt', 'log2'),\n",
       "                         'n_estimators': range(10, 300, 10)},\n",
       "             scoring='neg_mean_absolute_error')"
      ]
     },
     "metadata": {},
     "execution_count": 15
    }
   ],
   "metadata": {}
  },
  {
   "cell_type": "code",
   "execution_count": 16,
   "source": [
    "gsv.best_score_ , gsv.best_estimator_"
   ],
   "outputs": [
    {
     "output_type": "execute_result",
     "data": {
      "text/plain": [
       "(-2.120052083333333, RandomForestRegressor(n_estimators=30))"
      ]
     },
     "metadata": {},
     "execution_count": 16
    }
   ],
   "metadata": {}
  },
  {
   "cell_type": "code",
   "execution_count": 17,
   "source": [
    "# Test models\r\n",
    "pred_lr = lr_model.predict(X_test)\r\n",
    "pred_lasso = lasso_model.predict(X_test)\r\n",
    "pred_rf = gsv.best_estimator_.predict(X_test)"
   ],
   "outputs": [],
   "metadata": {}
  },
  {
   "cell_type": "code",
   "execution_count": 18,
   "source": [
    "from sklearn.metrics import mean_absolute_error\r\n",
    "mean_absolute_error(y_test,pred_lr), mean_absolute_error(y_test,pred_lasso), mean_absolute_error(y_test,pred_rf)"
   ],
   "outputs": [
    {
     "output_type": "execute_result",
     "data": {
      "text/plain": [
       "(5.318979296899906, 5.2584658530879524, 3.376870748299319)"
      ]
     },
     "metadata": {},
     "execution_count": 18
    }
   ],
   "metadata": {}
  },
  {
   "cell_type": "code",
   "execution_count": 19,
   "source": [
    "mean_absolute_error(y_test,(pred_lr+pred_rf)/2)"
   ],
   "outputs": [
    {
     "output_type": "execute_result",
     "data": {
      "text/plain": [
       "4.215271961374819"
      ]
     },
     "metadata": {},
     "execution_count": 19
    }
   ],
   "metadata": {}
  },
  {
   "cell_type": "markdown",
   "source": [
    "## Based on the modelling, RandomForestRegressor will be the best model. Hence we will use that for prediction."
   ],
   "metadata": {}
  },
  {
   "cell_type": "markdown",
   "source": [
    "## Export model in pickle format"
   ],
   "metadata": {}
  },
  {
   "cell_type": "code",
   "execution_count": 20,
   "source": [
    "# Export\r\n",
    "import pickle\r\n",
    "pickl = {'model': gsv.best_estimator_}\r\n",
    "pickle.dump( pickl, open( 'model_file' + \".p\", \"wb\" ) )"
   ],
   "outputs": [],
   "metadata": {}
  },
  {
   "cell_type": "markdown",
   "source": [
    "## Load the model again for testing"
   ],
   "metadata": {}
  },
  {
   "cell_type": "code",
   "execution_count": 21,
   "source": [
    "file_name = \"model_file.p\"\r\n",
    "with open(file_name, 'rb') as pickled:\r\n",
    "    data = pickle.load(pickled)\r\n",
    "    model = data['model']"
   ],
   "outputs": [],
   "metadata": {}
  },
  {
   "cell_type": "code",
   "execution_count": 23,
   "source": [
    "# Predict first row of data using the trained model\r\n",
    "model.predict(np.array(list(X_test.iloc[1,:])).reshape(1,-1))[0]"
   ],
   "outputs": [
    {
     "output_type": "execute_result",
     "data": {
      "text/plain": [
       "92.0"
      ]
     },
     "metadata": {},
     "execution_count": 23
    }
   ],
   "metadata": {}
  },
  {
   "cell_type": "code",
   "execution_count": 24,
   "source": [
    "# This X input will be used for flask data input\r\n",
    "list(X_test.iloc[1,:])"
   ],
   "outputs": [
    {
     "output_type": "execute_result",
     "data": {
      "text/plain": [
       "[3.6,\n",
       " 13.0,\n",
       " 0.0,\n",
       " 0.0,\n",
       " 0.0,\n",
       " 0.0,\n",
       " 0.0,\n",
       " 0.0,\n",
       " 0.0,\n",
       " 511.0,\n",
       " 0.0,\n",
       " 0.0,\n",
       " 1.0,\n",
       " 0.0,\n",
       " 0.0,\n",
       " 0.0,\n",
       " 0.0,\n",
       " 0.0,\n",
       " 0.0,\n",
       " 0.0,\n",
       " 0.0,\n",
       " 0.0,\n",
       " 1.0,\n",
       " 0.0,\n",
       " 0.0,\n",
       " 0.0,\n",
       " 0.0,\n",
       " 0.0,\n",
       " 0.0,\n",
       " 0.0,\n",
       " 1.0,\n",
       " 0.0,\n",
       " 0.0,\n",
       " 0.0,\n",
       " 0.0,\n",
       " 0.0,\n",
       " 0.0,\n",
       " 0.0,\n",
       " 0.0,\n",
       " 0.0,\n",
       " 1.0,\n",
       " 0.0,\n",
       " 1.0,\n",
       " 0.0,\n",
       " 0.0,\n",
       " 0.0,\n",
       " 0.0,\n",
       " 0.0,\n",
       " 0.0,\n",
       " 0.0,\n",
       " 0.0,\n",
       " 1.0,\n",
       " 0.0,\n",
       " 0.0,\n",
       " 0.0,\n",
       " 0.0,\n",
       " 0.0,\n",
       " 0.0,\n",
       " 0.0,\n",
       " 0.0,\n",
       " 0.0,\n",
       " 0.0,\n",
       " 0.0,\n",
       " 0.0,\n",
       " 0.0,\n",
       " 1.0,\n",
       " 0.0,\n",
       " 0.0,\n",
       " 0.0,\n",
       " 0.0,\n",
       " 0.0,\n",
       " 0.0,\n",
       " 0.0,\n",
       " 0.0,\n",
       " 0.0,\n",
       " 0.0,\n",
       " 0.0,\n",
       " 0.0,\n",
       " 0.0]"
      ]
     },
     "metadata": {},
     "execution_count": 24
    }
   ],
   "metadata": {}
  }
 ],
 "metadata": {
  "orig_nbformat": 4,
  "language_info": {
   "name": "python",
   "version": "3.8.8",
   "mimetype": "text/x-python",
   "codemirror_mode": {
    "name": "ipython",
    "version": 3
   },
   "pygments_lexer": "ipython3",
   "nbconvert_exporter": "python",
   "file_extension": ".py"
  },
  "kernelspec": {
   "name": "python3",
   "display_name": "Python 3.8.8 64-bit ('base': conda)"
  },
  "interpreter": {
   "hash": "b18c76392ac8e332f4dabf40e44bed8338cb786a08005e51d34e9dbed6b283e3"
  }
 },
 "nbformat": 4,
 "nbformat_minor": 2
}