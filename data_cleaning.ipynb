{
 "cells": [
  {
   "cell_type": "code",
   "execution_count": 106,
   "source": [
    "import pandas as pd\r\n",
    "import numpy as np\r\n",
    "pd.options.mode.chained_assignment = None  # default='warn'"
   ],
   "outputs": [],
   "metadata": {}
  },
  {
   "cell_type": "code",
   "execution_count": 107,
   "source": [
    "df = pd.read_csv('glassdoor_data_analyst_jobs.csv')\r\n",
    "df.head()"
   ],
   "outputs": [
    {
     "output_type": "execute_result",
     "data": {
      "text/plain": [
       "                Job Title                    Salary Estimate  Job Function  \\\n",
       "0            Data Analyst  MYR 25K - MYR 91K (Employer est.)  Data Analyst   \n",
       "1     Data Analyst Intern                                 -1  Data Analyst   \n",
       "2            DATA ANALYST  MYR 42K - MYR 60K (Employer est.)  Data Analyst   \n",
       "3        Industry Analyst  MYR 48K - MYR 65K (Employer est.)       Analyst   \n",
       "4  Data Migration Analyst            MYR 96K (Employer est.)  Data Analyst   \n",
       "\n",
       "                                     Job Description            Company Name  \\\n",
       "0  Your work makes the difference between a user ...              Citymapper   \n",
       "1  Funding Societies | Modalku is the largest SME...       Funding Societies   \n",
       "2  Basic Background & Requirement:\\nBachelor in A...            MyFundAction   \n",
       "3  This is a permanent work-from-home position.\\n...          ENF Solar Ltd.   \n",
       "4  Requirements\\n· Must be Malaysian\\nJob Descrip...  AMK Technology Sdn Bhd   \n",
       "\n",
       "   Rating      Location                  Size  Founded  Type of ownership  \\\n",
       "0    -1.0  Kuala Lumpur                    -1       -1                 -1   \n",
       "1     3.7  Kuala Lumpur  201 to 500 Employees     2015  Company - Private   \n",
       "2    -1.0     Shah Alam                    -1       -1                 -1   \n",
       "3    -1.0  Kuala Lumpur                    -1       -1                 -1   \n",
       "4     4.2  Kuala Lumpur  201 to 500 Employees     2002  Company - Private   \n",
       "\n",
       "      Industry                  Sector                   Revenue  \n",
       "0           -1                      -1                        -1  \n",
       "1      Lending                 Finance  Unknown / Non-Applicable  \n",
       "2           -1                      -1                        -1  \n",
       "3           -1                      -1                        -1  \n",
       "4  IT Services  Information Technology  Unknown / Non-Applicable  "
      ],
      "text/html": [
       "<div>\n",
       "<style scoped>\n",
       "    .dataframe tbody tr th:only-of-type {\n",
       "        vertical-align: middle;\n",
       "    }\n",
       "\n",
       "    .dataframe tbody tr th {\n",
       "        vertical-align: top;\n",
       "    }\n",
       "\n",
       "    .dataframe thead th {\n",
       "        text-align: right;\n",
       "    }\n",
       "</style>\n",
       "<table border=\"1\" class=\"dataframe\">\n",
       "  <thead>\n",
       "    <tr style=\"text-align: right;\">\n",
       "      <th></th>\n",
       "      <th>Job Title</th>\n",
       "      <th>Salary Estimate</th>\n",
       "      <th>Job Function</th>\n",
       "      <th>Job Description</th>\n",
       "      <th>Company Name</th>\n",
       "      <th>Rating</th>\n",
       "      <th>Location</th>\n",
       "      <th>Size</th>\n",
       "      <th>Founded</th>\n",
       "      <th>Type of ownership</th>\n",
       "      <th>Industry</th>\n",
       "      <th>Sector</th>\n",
       "      <th>Revenue</th>\n",
       "    </tr>\n",
       "  </thead>\n",
       "  <tbody>\n",
       "    <tr>\n",
       "      <th>0</th>\n",
       "      <td>Data Analyst</td>\n",
       "      <td>MYR 25K - MYR 91K (Employer est.)</td>\n",
       "      <td>Data Analyst</td>\n",
       "      <td>Your work makes the difference between a user ...</td>\n",
       "      <td>Citymapper</td>\n",
       "      <td>-1.0</td>\n",
       "      <td>Kuala Lumpur</td>\n",
       "      <td>-1</td>\n",
       "      <td>-1</td>\n",
       "      <td>-1</td>\n",
       "      <td>-1</td>\n",
       "      <td>-1</td>\n",
       "      <td>-1</td>\n",
       "    </tr>\n",
       "    <tr>\n",
       "      <th>1</th>\n",
       "      <td>Data Analyst Intern</td>\n",
       "      <td>-1</td>\n",
       "      <td>Data Analyst</td>\n",
       "      <td>Funding Societies | Modalku is the largest SME...</td>\n",
       "      <td>Funding Societies</td>\n",
       "      <td>3.7</td>\n",
       "      <td>Kuala Lumpur</td>\n",
       "      <td>201 to 500 Employees</td>\n",
       "      <td>2015</td>\n",
       "      <td>Company - Private</td>\n",
       "      <td>Lending</td>\n",
       "      <td>Finance</td>\n",
       "      <td>Unknown / Non-Applicable</td>\n",
       "    </tr>\n",
       "    <tr>\n",
       "      <th>2</th>\n",
       "      <td>DATA ANALYST</td>\n",
       "      <td>MYR 42K - MYR 60K (Employer est.)</td>\n",
       "      <td>Data Analyst</td>\n",
       "      <td>Basic Background &amp; Requirement:\\nBachelor in A...</td>\n",
       "      <td>MyFundAction</td>\n",
       "      <td>-1.0</td>\n",
       "      <td>Shah Alam</td>\n",
       "      <td>-1</td>\n",
       "      <td>-1</td>\n",
       "      <td>-1</td>\n",
       "      <td>-1</td>\n",
       "      <td>-1</td>\n",
       "      <td>-1</td>\n",
       "    </tr>\n",
       "    <tr>\n",
       "      <th>3</th>\n",
       "      <td>Industry Analyst</td>\n",
       "      <td>MYR 48K - MYR 65K (Employer est.)</td>\n",
       "      <td>Analyst</td>\n",
       "      <td>This is a permanent work-from-home position.\\n...</td>\n",
       "      <td>ENF Solar Ltd.</td>\n",
       "      <td>-1.0</td>\n",
       "      <td>Kuala Lumpur</td>\n",
       "      <td>-1</td>\n",
       "      <td>-1</td>\n",
       "      <td>-1</td>\n",
       "      <td>-1</td>\n",
       "      <td>-1</td>\n",
       "      <td>-1</td>\n",
       "    </tr>\n",
       "    <tr>\n",
       "      <th>4</th>\n",
       "      <td>Data Migration Analyst</td>\n",
       "      <td>MYR 96K (Employer est.)</td>\n",
       "      <td>Data Analyst</td>\n",
       "      <td>Requirements\\n· Must be Malaysian\\nJob Descrip...</td>\n",
       "      <td>AMK Technology Sdn Bhd</td>\n",
       "      <td>4.2</td>\n",
       "      <td>Kuala Lumpur</td>\n",
       "      <td>201 to 500 Employees</td>\n",
       "      <td>2002</td>\n",
       "      <td>Company - Private</td>\n",
       "      <td>IT Services</td>\n",
       "      <td>Information Technology</td>\n",
       "      <td>Unknown / Non-Applicable</td>\n",
       "    </tr>\n",
       "  </tbody>\n",
       "</table>\n",
       "</div>"
      ]
     },
     "metadata": {},
     "execution_count": 107
    }
   ],
   "metadata": {}
  },
  {
   "cell_type": "code",
   "execution_count": 108,
   "source": [
    "#make title as data analyst (do later)\r\n",
    "#remove job function (do later)\r\n",
    "#salary parsing\r\n"
   ],
   "outputs": [],
   "metadata": {}
  },
  {
   "cell_type": "code",
   "execution_count": 109,
   "source": [
    "df.shape\r\n",
    "df = df.drop(columns='Job Function')"
   ],
   "outputs": [],
   "metadata": {}
  },
  {
   "cell_type": "code",
   "execution_count": 110,
   "source": [
    "#salary parsing\r\n",
    "df[df[\"Salary Estimate\"] == \"-1\"].shape"
   ],
   "outputs": [
    {
     "output_type": "execute_result",
     "data": {
      "text/plain": [
       "(259, 12)"
      ]
     },
     "metadata": {},
     "execution_count": 110
    }
   ],
   "metadata": {}
  },
  {
   "cell_type": "code",
   "execution_count": 111,
   "source": [
    "df2 = df[df[\"Salary Estimate\"] != \"-1\"]\r\n"
   ],
   "outputs": [],
   "metadata": {}
  },
  {
   "cell_type": "code",
   "execution_count": 112,
   "source": [
    "df2['salary_estimate_split'] = df['Salary Estimate'].apply(lambda x: x.split('(')[0])"
   ],
   "outputs": [],
   "metadata": {}
  },
  {
   "cell_type": "code",
   "execution_count": 113,
   "source": [
    "df2['salary_estimate_split'] = df2['salary_estimate_split'].apply(lambda x: x.replace('MYR','').replace('K',''))"
   ],
   "outputs": [],
   "metadata": {}
  },
  {
   "cell_type": "code",
   "execution_count": 114,
   "source": [
    "df2['salary_estimate_hourly'] = df2['salary_estimate_split'].apply(lambda x: 1 if 'Per Hour' in x else 0)"
   ],
   "outputs": [],
   "metadata": {}
  },
  {
   "cell_type": "code",
   "execution_count": 115,
   "source": [
    "df2['salary_estimate_split'] = df2['salary_estimate_split'].apply(lambda x: x.replace('Per Hour',''))"
   ],
   "outputs": [],
   "metadata": {}
  },
  {
   "cell_type": "code",
   "execution_count": 116,
   "source": [
    "df2['min_salary'] = df2['salary_estimate_split'].apply(lambda x: int(str(x.split('-')[0])))\r\n",
    "df2['max_salary'] = df2['salary_estimate_split'].apply(lambda x: int(str(x.split('-')[1] if '-' in x else str(x.split('-')[0]))))\r\n",
    "df2['min_salary'].dtype\r\n",
    "#df2['max_salary'] = df2['salary_estimate_split'].apply(lambda x: int(x.split('-')[1]))"
   ],
   "outputs": [
    {
     "output_type": "execute_result",
     "data": {
      "text/plain": [
       "dtype('int64')"
      ]
     },
     "metadata": {},
     "execution_count": 116
    }
   ],
   "metadata": {}
  },
  {
   "cell_type": "code",
   "execution_count": 117,
   "source": [
    "df2['avg_salary'] = (df2['max_salary']+df2['min_salary'])/2"
   ],
   "outputs": [],
   "metadata": {}
  },
  {
   "cell_type": "code",
   "execution_count": 118,
   "source": [
    "df.columns"
   ],
   "outputs": [
    {
     "output_type": "execute_result",
     "data": {
      "text/plain": [
       "Index(['Job Title', 'Salary Estimate', 'Job Description', 'Company Name',\n",
       "       'Rating', 'Location', 'Size', 'Founded', 'Type of ownership',\n",
       "       'Industry', 'Sector', 'Revenue'],\n",
       "      dtype='object')"
      ]
     },
     "metadata": {},
     "execution_count": 118
    }
   ],
   "metadata": {}
  },
  {
   "cell_type": "code",
   "execution_count": 119,
   "source": [
    "#age of company\r\n",
    "df2['age'] = df2['Founded'].apply(lambda x: x if x<1 else 2020 - int(x))"
   ],
   "outputs": [],
   "metadata": {}
  },
  {
   "cell_type": "code",
   "execution_count": 120,
   "source": [
    "#company name text only (no need)\r\n",
    "#change state to KL,etc (no need)\r\n",
    "\r\n",
    "#parsing of job description (python,etc)\r\n",
    "df2['Job Description'][0]"
   ],
   "outputs": [
    {
     "output_type": "execute_result",
     "data": {
      "text/plain": [
       "\"Your work makes the difference between a user seeing a bus drive away or reaching it just in time. We feel a great sense of responsibility at Citymapper. Millions of users around the world trust our green app to be on time for work, a job interview or a date.\\nAs one of our Data Analysts you will build the timetable data that powers the Citymapper app and help launch new cities. You'll use secret magic (and our internal tools) to transform often messy transit schedules into shiny and reliable user information whilst building, validating, and shipping data directly to users on a daily basis.\\nWorking with our engineers to improve tools and automate tasks, you'll manage data in a range of cities across different formats.\\nThis role is designed for contractors based in Malaysia.\""
      ]
     },
     "metadata": {},
     "execution_count": 120
    }
   ],
   "metadata": {}
  },
  {
   "cell_type": "code",
   "execution_count": 121,
   "source": [
    "#power bi\r\n",
    "df2['power_bi_yn'] = df2['Job Description'].apply(lambda x: 1 if 'power bi' in x.lower() else 0)\r\n",
    "#tableau\r\n",
    "df2['tableau_yn'] = df2['Job Description'].apply(lambda x: 1 if 'tableau' in x.lower() else 0)\r\n",
    "#python\r\n",
    "df2['python_yn'] = df2['Job Description'].apply(lambda x: 1 if 'python' in x.lower() else 0)\r\n",
    "#sql\r\n",
    "df2['sql_yn'] = df2['Job Description'].apply(lambda x: 1 if 'sql' in x.lower() else 0)\r\n",
    "#excel\r\n",
    "df2['excel_yn'] = df2['Job Description'].apply(lambda x: 1 if 'excel' in x.lower() else 0)\r\n",
    "#machine learning\r\n",
    "df2['machine_learning_yn'] = df2['Job Description'].apply(lambda x: 1 if 'machine learning' in x.lower() else 0)\r\n",
    "df2['power_bi_yn'].value_counts()"
   ],
   "outputs": [
    {
     "output_type": "execute_result",
     "data": {
      "text/plain": [
       "0    224\n",
       "1     17\n",
       "Name: power_bi_yn, dtype: int64"
      ]
     },
     "metadata": {},
     "execution_count": 121
    }
   ],
   "metadata": {}
  },
  {
   "cell_type": "code",
   "execution_count": 122,
   "source": [
    "df2.to_csv('salary_data_cleaned.csv', index=False)"
   ],
   "outputs": [],
   "metadata": {}
  }
 ],
 "metadata": {
  "orig_nbformat": 4,
  "language_info": {
   "name": "python",
   "version": "3.8.5",
   "mimetype": "text/x-python",
   "codemirror_mode": {
    "name": "ipython",
    "version": 3
   },
   "pygments_lexer": "ipython3",
   "nbconvert_exporter": "python",
   "file_extension": ".py"
  },
  "kernelspec": {
   "name": "python3",
   "display_name": "Python 3.8.5 64-bit ('base': conda)"
  },
  "interpreter": {
   "hash": "b18c76392ac8e332f4dabf40e44bed8338cb786a08005e51d34e9dbed6b283e3"
  }
 },
 "nbformat": 4,
 "nbformat_minor": 2
}